{
  "nbformat": 4,
  "nbformat_minor": 0,
  "metadata": {
    "colab": {
      "name": "FSDL Text recognizer project ",
      "version": "0.3.2",
      "provenance": [],
      "collapsed_sections": [],
      "include_colab_link": true
    },
    "kernelspec": {
      "name": "python3",
      "display_name": "Python 3"
    },
    "accelerator": "GPU"
  },
  "cells": [
    {
      "cell_type": "markdown",
      "metadata": {
        "id": "view-in-github",
        "colab_type": "text"
      },
      "source": [
        "<a href=\"https://colab.research.google.com/github/venuraja79/fsdl-text-recognizer-project/blob/master/fsdl_text_recognizer_colab.ipynb\" target=\"_parent\"><img src=\"https://colab.research.google.com/assets/colab-badge.svg\" alt=\"Open In Colab\"/></a>"
      ]
    },
    {
      "cell_type": "code",
      "metadata": {
        "id": "rvjP-d32629K",
        "colab_type": "code",
        "outputId": "bb0a8916-909f-4333-f8e1-60e68d7ca905",
        "colab": {
          "base_uri": "https://localhost:8080/",
          "height": 102
        }
      },
      "source": [
        "!git clone https://github.com/full-stack-deep-learning/fsdl-text-recognizer-project.git\n",
        "#!git clone https://github.com/venuraja79/fsdl-text-recognizer-project.git\n",
        "\n"
      ],
      "execution_count": 1,
      "outputs": [
        {
          "output_type": "stream",
          "text": [
            "Cloning into 'fsdl-text-recognizer-project'...\n",
            "remote: Enumerating objects: 1293, done.\u001b[K\n",
            "remote: Total 1293 (delta 0), reused 0 (delta 0), pack-reused 1293\u001b[K\n",
            "Receiving objects: 100% (1293/1293), 2.63 MiB | 6.12 MiB/s, done.\n",
            "Resolving deltas: 100% (863/863), done.\n"
          ],
          "name": "stdout"
        }
      ]
    },
    {
      "cell_type": "code",
      "metadata": {
        "id": "sfQb7GJdZ_-6",
        "colab_type": "code",
        "outputId": "3e2757ee-6415-4ce3-979d-18fcf7aeff65",
        "colab": {
          "base_uri": "https://localhost:8080/",
          "height": 34
        }
      },
      "source": [
        "!ls"
      ],
      "execution_count": 2,
      "outputs": [
        {
          "output_type": "stream",
          "text": [
            "fsdl-text-recognizer-project  sample_data\n"
          ],
          "name": "stdout"
        }
      ]
    },
    {
      "cell_type": "code",
      "metadata": {
        "id": "LOdoD27hV_Yo",
        "colab_type": "code",
        "colab": {}
      },
      "source": [
        ""
      ],
      "execution_count": 0,
      "outputs": []
    },
    {
      "cell_type": "code",
      "metadata": {
        "id": "3GHZhwWdf4MG",
        "colab_type": "code",
        "outputId": "0874e654-469e-4050-e4c3-9bf624b3cc62",
        "colab": {
          "base_uri": "https://localhost:8080/",
          "height": 34
        }
      },
      "source": [
        "import tensorflow as tf\n",
        "device_name = tf.test.gpu_device_name()\n",
        "if device_name != '/device:GPU:0':\n",
        "  raise SystemError('GPU device not found')\n",
        "print('Found GPU at: {}'.format(device_name))"
      ],
      "execution_count": 3,
      "outputs": [
        {
          "output_type": "stream",
          "text": [
            "Found GPU at: /device:GPU:0\n"
          ],
          "name": "stdout"
        }
      ]
    },
    {
      "cell_type": "code",
      "metadata": {
        "id": "QOO8arDgGKrK",
        "colab_type": "code",
        "colab": {
          "base_uri": "https://localhost:8080/",
          "height": 34
        },
        "outputId": "d70bf967-0d71-4ce5-9d22-6116752be6bf"
      },
      "source": [
        "tf.__version__"
      ],
      "execution_count": 4,
      "outputs": [
        {
          "output_type": "execute_result",
          "data": {
            "text/plain": [
              "'1.14.0'"
            ]
          },
          "metadata": {
            "tags": []
          },
          "execution_count": 4
        }
      ]
    },
    {
      "cell_type": "code",
      "metadata": {
        "id": "pYaXlflRhM6s",
        "colab_type": "code",
        "outputId": "ce3c0926-cf93-4ab4-de60-d46925ed2ac0",
        "colab": {
          "base_uri": "https://localhost:8080/",
          "height": 34
        }
      },
      "source": [
        "#!pipenv run text_recognizer/datasets/emnist.py"
      ],
      "execution_count": 0,
      "outputs": [
        {
          "output_type": "stream",
          "text": [
            "\u001b[31m\u001b[1mError\u001b[39m\u001b[22m: the command \u001b[31m\u001b[22mtext_recognizer/datasets/emnist.py\u001b[39m\u001b[22m could not be found within \u001b[39m\u001b[1mPATH\u001b[39m\u001b[22m or Pipfile's \u001b[39m\u001b[1m[scripts]\u001b[39m\u001b[22m.\n",
            "\u001b[0m"
          ],
          "name": "stdout"
        }
      ]
    },
    {
      "cell_type": "code",
      "metadata": {
        "id": "kFe197wHEIIZ",
        "colab_type": "code",
        "outputId": "39ccd9b8-846c-4aa8-b904-c00a1a0119e2",
        "colab": {
          "base_uri": "https://localhost:8080/",
          "height": 34
        }
      },
      "source": [
        "#cd /"
      ],
      "execution_count": 0,
      "outputs": [
        {
          "output_type": "stream",
          "text": [
            "/\n"
          ],
          "name": "stdout"
        }
      ]
    },
    {
      "cell_type": "code",
      "metadata": {
        "id": "dJ9xV9js68g0",
        "colab_type": "code",
        "outputId": "75be6703-4d94-41ce-a327-bb7f1dd33b32",
        "colab": {
          "base_uri": "https://localhost:8080/",
          "height": 34
        }
      },
      "source": [
        "cd fsdl-text-recognizer-project\n"
      ],
      "execution_count": 5,
      "outputs": [
        {
          "output_type": "stream",
          "text": [
            "/content/fsdl-text-recognizer-project\n"
          ],
          "name": "stdout"
        }
      ]
    },
    {
      "cell_type": "code",
      "metadata": {
        "id": "6Dm5T29I7Mox",
        "colab_type": "code",
        "outputId": "7687cf3d-5957-4a70-d189-f1cc2c0dc5f8",
        "colab": {
          "base_uri": "https://localhost:8080/",
          "height": 85
        }
      },
      "source": [
        "!ls"
      ],
      "execution_count": 6,
      "outputs": [
        {
          "output_type": "stream",
          "text": [
            "data\t  lab2_sln  lab4_sln  lab6_sln\tlab8_sln  Pipfile.lock\n",
            "lab1\t  lab3\t    lab5      lab7\tlab9\t  readme.md\n",
            "lab1_sln  lab3_sln  lab5_sln  lab7_sln\tlab9_sln\n",
            "lab2\t  lab4\t    lab6      lab8\tPipfile\n"
          ],
          "name": "stdout"
        }
      ]
    },
    {
      "cell_type": "code",
      "metadata": {
        "id": "Tb-3r2y97OeV",
        "colab_type": "code",
        "outputId": "dc8ed453-e990-4b62-9cec-7dcbf6277d45",
        "colab": {
          "base_uri": "https://localhost:8080/",
          "height": 258
        }
      },
      "source": [
        "!pip install pipenv\n",
        "\n"
      ],
      "execution_count": 7,
      "outputs": [
        {
          "output_type": "stream",
          "text": [
            "Collecting pipenv\n",
            "\u001b[?25l  Downloading https://files.pythonhosted.org/packages/13/b4/3ffa55f77161cff9a5220f162670f7c5eb00df52e00939e203f601b0f579/pipenv-2018.11.26-py3-none-any.whl (5.2MB)\n",
            "\u001b[K     |████████████████████████████████| 5.2MB 4.6MB/s \n",
            "\u001b[?25hRequirement already satisfied: certifi in /usr/local/lib/python3.6/dist-packages (from pipenv) (2019.6.16)\n",
            "Requirement already satisfied: pip>=9.0.1 in /usr/local/lib/python3.6/dist-packages (from pipenv) (19.2.1)\n",
            "Collecting virtualenv (from pipenv)\n",
            "\u001b[?25l  Downloading https://files.pythonhosted.org/packages/db/9e/df208b2baad146fe3fbe750eacadd6e49bcf2f2c3c1117b7192a7b28aec4/virtualenv-16.7.2-py2.py3-none-any.whl (3.3MB)\n",
            "\u001b[K     |████████████████████████████████| 3.3MB 32.5MB/s \n",
            "\u001b[?25hRequirement already satisfied: setuptools>=36.2.1 in /usr/local/lib/python3.6/dist-packages (from pipenv) (41.0.1)\n",
            "Collecting virtualenv-clone>=0.2.5 (from pipenv)\n",
            "  Downloading https://files.pythonhosted.org/packages/ba/f8/50c2b7dbc99e05fce5e5b9d9a31f37c988c99acd4e8dedd720b7b8d4011d/virtualenv_clone-0.5.3-py2.py3-none-any.whl\n",
            "Installing collected packages: virtualenv, virtualenv-clone, pipenv\n",
            "Successfully installed pipenv-2018.11.26 virtualenv-16.7.2 virtualenv-clone-0.5.3\n"
          ],
          "name": "stdout"
        }
      ]
    },
    {
      "cell_type": "code",
      "metadata": {
        "id": "gW4U9tpFQ3Ao",
        "colab_type": "code",
        "colab": {
          "base_uri": "https://localhost:8080/",
          "height": 306
        },
        "outputId": "b524eb2c-455a-4253-91e4-365e4819ba85"
      },
      "source": [
        "!pipenv install --dev"
      ],
      "execution_count": 8,
      "outputs": [
        {
          "output_type": "stream",
          "text": [
            "\u001b[39m\u001b[1mCreating a virtualenv for this project…\u001b[39m\u001b[22m\n",
            "Pipfile: \u001b[31m\u001b[1m/content/fsdl-text-recognizer-project/Pipfile\u001b[39m\u001b[22m\n",
            "\u001b[39m\u001b[1mUsing\u001b[39m\u001b[22m \u001b[31m\u001b[1m/usr/local/bin/python\u001b[39m\u001b[22m \u001b[32m\u001b[22m(3.6.8)\u001b[39m\u001b[22m \u001b[39m\u001b[1mto create virtualenv…\u001b[39m\u001b[22m\n",
            "⠼\u001b[0m Creating virtual environment...\u001b[K\u001b[34m\u001b[22mAlready using interpreter /usr/bin/python3\n",
            "Using base prefix '/usr'\n",
            "New python executable in /root/.local/share/virtualenvs/fsdl-text-recognizer-project-Kk-lBAQO/bin/python3\n",
            "Also creating executable in /root/.local/share/virtualenvs/fsdl-text-recognizer-project-Kk-lBAQO/bin/python\n",
            "Installing setuptools, pip, wheel...\n",
            "done.\n",
            "Running virtualenv with interpreter /usr/local/bin/python\n",
            "\u001b[39m\u001b[22m\n",
            "\u001b[K\u001b[?25h\u001b[32m\u001b[22m✔ Successfully created virtual environment!\u001b[39m\u001b[22m\u001b[0m \n",
            "Virtualenv location: \u001b[32m\u001b[22m/root/.local/share/virtualenvs/fsdl-text-recognizer-project-Kk-lBAQO\u001b[39m\u001b[22m\n",
            "\u001b[39m\u001b[1mInstalling dependencies from Pipfile.lock (720db8)…\u001b[39m\u001b[22m\n",
            "  🐍   \u001b[32m\u001b[1m▉\u001b[39m\u001b[22m\u001b[32m\u001b[1m▉\u001b[39m\u001b[22m\u001b[32m\u001b[1m▉\u001b[39m\u001b[22m\u001b[32m\u001b[1m▉\u001b[39m\u001b[22m\u001b[32m\u001b[1m▉\u001b[39m\u001b[22m\u001b[32m\u001b[1m▉\u001b[39m\u001b[22m\u001b[32m\u001b[1m▉\u001b[39m\u001b[22m\u001b[32m\u001b[1m▉\u001b[39m\u001b[22m\u001b[32m\u001b[1m▉\u001b[39m\u001b[22m\u001b[32m\u001b[1m▉\u001b[39m\u001b[22m\u001b[32m\u001b[1m▉\u001b[39m\u001b[22m\u001b[32m\u001b[1m▉\u001b[39m\u001b[22m\u001b[32m\u001b[1m▉\u001b[39m\u001b[22m\u001b[32m\u001b[1m▉\u001b[39m\u001b[22m\u001b[32m\u001b[1m▉\u001b[39m\u001b[22m\u001b[32m\u001b[1m▉\u001b[39m\u001b[22m\u001b[32m\u001b[1m▉\u001b[39m\u001b[22m\u001b[32m\u001b[1m▉\u001b[39m\u001b[22m\u001b[32m\u001b[1m▉\u001b[39m\u001b[22m\u001b[32m\u001b[1m▉\u001b[39m\u001b[22m\u001b[32m\u001b[1m▉\u001b[39m\u001b[22m\u001b[32m\u001b[1m▉\u001b[39m\u001b[22m\u001b[32m\u001b[1m▉\u001b[39m\u001b[22m\u001b[32m\u001b[1m▉\u001b[39m\u001b[22m\u001b[32m\u001b[1m▉\u001b[39m\u001b[22m\u001b[32m\u001b[1m▉\u001b[39m\u001b[22m\u001b[32m\u001b[1m▉\u001b[39m\u001b[22m\u001b[32m\u001b[1m▉\u001b[39m\u001b[22m\u001b[32m\u001b[1m▉\u001b[39m\u001b[22m\u001b[32m\u001b[1m▉\u001b[39m\u001b[22m\u001b[32m\u001b[1m▉\u001b[39m\u001b[22m\u001b[32m\u001b[1m▉\u001b[39m\u001b[22m 121/121 — \u001b[30m\u001b[22m00:02:10\u001b[39m\u001b[22m\n",
            "To activate this project's virtualenv, run \u001b[31m\u001b[22mpipenv shell\u001b[39m\u001b[22m.\n",
            "Alternatively, run a command inside the virtualenv with \u001b[31m\u001b[22mpipenv run\u001b[39m\u001b[22m.\n",
            "\u001b[0m"
          ],
          "name": "stdout"
        }
      ]
    },
    {
      "cell_type": "code",
      "metadata": {
        "id": "ZWdV1st5hAKf",
        "colab_type": "code",
        "colab": {
          "base_uri": "https://localhost:8080/",
          "height": 700
        },
        "outputId": "02201b16-868d-4bae-c20d-9384e9cd36ed"
      },
      "source": [
        "!pipenv install tensorflow-gpu==1.14.0"
      ],
      "execution_count": 9,
      "outputs": [
        {
          "output_type": "stream",
          "text": [
            "\u001b[39m\u001b[1mInstalling \u001b[32m\u001b[1mtensorflow-gpu==1.14.0\u001b[39m\u001b[22m…\u001b[39m\u001b[22m\n",
            "\u001b[K\u001b[39m\u001b[1mAdding\u001b[39m\u001b[22m \u001b[32m\u001b[1mtensorflow-gpu\u001b[39m\u001b[22m \u001b[39m\u001b[1mto Pipfile's\u001b[39m\u001b[22m \u001b[31m\u001b[1m[packages]\u001b[39m\u001b[22m\u001b[39m\u001b[1m…\u001b[39m\u001b[22m\n",
            "\u001b[K\u001b[?25h✔ Installation Succeeded\u001b[0m \n",
            "\u001b[31m\u001b[1mPipfile.lock (cd86d5) out of date, updating to (720db8)…\u001b[39m\u001b[22m\n",
            "\u001b[39m\u001b[22mLocking\u001b[39m\u001b[22m \u001b[31m\u001b[22m[dev-packages]\u001b[39m\u001b[22m \u001b[39m\u001b[22mdependencies…\u001b[39m\u001b[22m\n",
            "\u001b[K\u001b[?25h\u001b[31m\u001b[22m✘ Locking Failed!\u001b[39m\u001b[22m\u001b[0m \n",
            "[pipenv.exceptions.ResolutionFailure]:   File \"/usr/local/lib/python3.6/dist-packages/pipenv/resolver.py\", line 69, in resolve\n",
            "[pipenv.exceptions.ResolutionFailure]:       req_dir=requirements_dir\n",
            "[pipenv.exceptions.ResolutionFailure]:   File \"/usr/local/lib/python3.6/dist-packages/pipenv/utils.py\", line 726, in resolve_deps\n",
            "[pipenv.exceptions.ResolutionFailure]:       req_dir=req_dir,\n",
            "[pipenv.exceptions.ResolutionFailure]:   File \"/usr/local/lib/python3.6/dist-packages/pipenv/utils.py\", line 480, in actually_resolve_deps\n",
            "[pipenv.exceptions.ResolutionFailure]:       resolved_tree = resolver.resolve()\n",
            "[pipenv.exceptions.ResolutionFailure]:   File \"/usr/local/lib/python3.6/dist-packages/pipenv/utils.py\", line 395, in resolve\n",
            "[pipenv.exceptions.ResolutionFailure]:       raise ResolutionFailure(message=str(e))\n",
            "[pipenv.exceptions.ResolutionFailure]:       pipenv.exceptions.ResolutionFailure: ERROR: ERROR: Could not find a version that matches typed-ast<1.3.0,>=1.2.0,>=1.3.0\n",
            "[pipenv.exceptions.ResolutionFailure]:       Tried: 0.5, 0.5.1, 0.5.1, 0.5.2, 0.5.3, 0.5.4, 0.5.5, 0.5.6, 0.6.0, 0.6.1, 0.6.2, 0.6.2, 0.6.2, 0.6.2, 0.6.3, 0.6.3, 0.6.3, 0.6.3, 0.6.3, 0.6.3, 1.0.0, 1.0.0, 1.0.0, 1.0.0, 1.0.0, 1.0.0, 1.0.0, 1.0.0, 1.0.0, 1.0.0, 1.0.0, 1.0.0, 1.0.0, 1.0.0, 1.0.1, 1.0.1, 1.0.1, 1.0.1, 1.0.1, 1.0.1, 1.0.1, 1.0.1, 1.0.1, 1.0.1, 1.0.1, 1.0.1, 1.0.1, 1.0.1, 1.0.2, 1.0.2, 1.0.2, 1.0.2, 1.0.2, 1.0.2, 1.0.2, 1.0.2, 1.0.2, 1.0.2, 1.0.2, 1.0.2, 1.0.2, 1.0.2, 1.0.3, 1.0.3, 1.0.3, 1.0.3, 1.0.3, 1.0.3, 1.0.3, 1.0.3, 1.0.3, 1.0.3, 1.0.3, 1.0.3, 1.0.3, 1.0.3, 1.0.4, 1.0.4, 1.0.4, 1.0.4, 1.0.4, 1.0.4, 1.0.4, 1.0.4, 1.0.4, 1.0.4, 1.0.4, 1.0.4, 1.0.4, 1.0.4, 1.1.0, 1.1.0, 1.1.0, 1.1.0, 1.1.0, 1.1.0, 1.1.0, 1.1.0, 1.1.0, 1.1.0, 1.1.0, 1.1.0, 1.1.0, 1.1.0, 1.1.0, 1.1.0, 1.1.0, 1.1.0, 1.1.0, 1.1.0, 1.1.0, 1.1.0, 1.1.0, 1.1.1, 1.1.1, 1.1.1, 1.1.1, 1.1.1, 1.1.1, 1.1.1, 1.1.1, 1.1.1, 1.1.1, 1.1.1, 1.1.1, 1.1.1, 1.1.1, 1.1.1, 1.1.1, 1.1.1, 1.1.1, 1.1.1, 1.1.1, 1.1.1, 1.1.2, 1.1.2, 1.1.2, 1.1.2, 1.1.2, 1.1.2, 1.1.2, 1.1.2, 1.1.2, 1.1.2, 1.1.2, 1.1.2, 1.1.2, 1.1.2, 1.1.2, 1.1.2, 1.1.2, 1.1.2, 1.1.2, 1.1.2, 1.1.2, 1.2.0, 1.2.0, 1.2.0, 1.2.0, 1.2.0, 1.2.0, 1.2.0, 1.2.0, 1.2.0, 1.2.0, 1.2.0, 1.2.0, 1.2.0, 1.2.0, 1.2.0, 1.2.0, 1.2.0, 1.2.0, 1.2.0, 1.2.0, 1.2.0, 1.3.0, 1.3.0, 1.3.0, 1.3.0, 1.3.0, 1.3.0, 1.3.0, 1.3.0, 1.3.0, 1.3.0, 1.3.0, 1.3.0, 1.3.0, 1.3.0, 1.3.0, 1.3.0, 1.3.0, 1.3.0, 1.3.0, 1.3.1, 1.3.1, 1.3.1, 1.3.1, 1.3.1, 1.3.1, 1.3.1, 1.3.1, 1.3.1, 1.3.1, 1.3.1, 1.3.1, 1.3.1, 1.3.1, 1.3.1, 1.3.1, 1.3.1, 1.3.1, 1.3.1, 1.3.2, 1.3.2, 1.3.2, 1.3.2, 1.3.2, 1.3.2, 1.3.2, 1.3.2, 1.3.2, 1.3.2, 1.3.2, 1.3.2, 1.3.2, 1.3.2, 1.3.2, 1.3.2, 1.3.2, 1.3.2, 1.3.2, 1.3.4, 1.3.4, 1.3.4, 1.3.4, 1.3.4, 1.3.4, 1.3.4, 1.3.4, 1.3.4, 1.3.4, 1.3.4, 1.3.4, 1.3.4, 1.3.4, 1.3.4, 1.3.4, 1.3.4, 1.3.4, 1.3.4, 1.3.4, 1.3.5, 1.3.5, 1.3.5, 1.3.5, 1.3.5, 1.3.5, 1.3.5, 1.3.5, 1.3.5, 1.3.5, 1.3.5, 1.3.5, 1.3.5, 1.3.5, 1.3.5, 1.3.5, 1.3.5, 1.3.5, 1.3.5, 1.4.0, 1.4.0, 1.4.0, 1.4.0, 1.4.0, 1.4.0, 1.4.0, 1.4.0, 1.4.0, 1.4.0, 1.4.0, 1.4.0, 1.4.0, 1.4.0, 1.4.0\n",
            "[pipenv.exceptions.ResolutionFailure]: Warning: Your dependencies could not be resolved. You likely have a mismatch in your sub-dependencies.\n",
            "  First try clearing your dependency cache with $ pipenv lock --clear, then try the original command again.\n",
            " Alternatively, you can use $ pipenv install --skip-lock to bypass this mechanism, then run $ pipenv graph to inspect the situation.\n",
            "  Hint: try $ pipenv lock --pre if it is a pre-release dependency.\n",
            "ERROR: ERROR: Could not find a version that matches typed-ast<1.3.0,>=1.2.0,>=1.3.0\n",
            "Tried: 0.5, 0.5.1, 0.5.1, 0.5.2, 0.5.3, 0.5.4, 0.5.5, 0.5.6, 0.6.0, 0.6.1, 0.6.2, 0.6.2, 0.6.2, 0.6.2, 0.6.3, 0.6.3, 0.6.3, 0.6.3, 0.6.3, 0.6.3, 1.0.0, 1.0.0, 1.0.0, 1.0.0, 1.0.0, 1.0.0, 1.0.0, 1.0.0, 1.0.0, 1.0.0, 1.0.0, 1.0.0, 1.0.0, 1.0.0, 1.0.1, 1.0.1, 1.0.1, 1.0.1, 1.0.1, 1.0.1, 1.0.1, 1.0.1, 1.0.1, 1.0.1, 1.0.1, 1.0.1, 1.0.1, 1.0.1, 1.0.2, 1.0.2, 1.0.2, 1.0.2, 1.0.2, 1.0.2, 1.0.2, 1.0.2, 1.0.2, 1.0.2, 1.0.2, 1.0.2, 1.0.2, 1.0.2, 1.0.3, 1.0.3, 1.0.3, 1.0.3, 1.0.3, 1.0.3, 1.0.3, 1.0.3, 1.0.3, 1.0.3, 1.0.3, 1.0.3, 1.0.3, 1.0.3, 1.0.4, 1.0.4, 1.0.4, 1.0.4, 1.0.4, 1.0.4, 1.0.4, 1.0.4, 1.0.4, 1.0.4, 1.0.4, 1.0.4, 1.0.4, 1.0.4, 1.1.0, 1.1.0, 1.1.0, 1.1.0, 1.1.0, 1.1.0, 1.1.0, 1.1.0, 1.1.0, 1.1.0, 1.1.0, 1.1.0, 1.1.0, 1.1.0, 1.1.0, 1.1.0, 1.1.0, 1.1.0, 1.1.0, 1.1.0, 1.1.0, 1.1.0, 1.1.0, 1.1.1, 1.1.1, 1.1.1, 1.1.1, 1.1.1, 1.1.1, 1.1.1, 1.1.1, 1.1.1, 1.1.1, 1.1.1, 1.1.1, 1.1.1, 1.1.1, 1.1.1, 1.1.1, 1.1.1, 1.1.1, 1.1.1, 1.1.1, 1.1.1, 1.1.2, 1.1.2, 1.1.2, 1.1.2, 1.1.2, 1.1.2, 1.1.2, 1.1.2, 1.1.2, 1.1.2, 1.1.2, 1.1.2, 1.1.2, 1.1.2, 1.1.2, 1.1.2, 1.1.2, 1.1.2, 1.1.2, 1.1.2, 1.1.2, 1.2.0, 1.2.0, 1.2.0, 1.2.0, 1.2.0, 1.2.0, 1.2.0, 1.2.0, 1.2.0, 1.2.0, 1.2.0, 1.2.0, 1.2.0, 1.2.0, 1.2.0, 1.2.0, 1.2.0, 1.2.0, 1.2.0, 1.2.0, 1.2.0, 1.3.0, 1.3.0, 1.3.0, 1.3.0, 1.3.0, 1.3.0, 1.3.0, 1.3.0, 1.3.0, 1.3.0, 1.3.0, 1.3.0, 1.3.0, 1.3.0, 1.3.0, 1.3.0, 1.3.0, 1.3.0, 1.3.0, 1.3.1, 1.3.1, 1.3.1, 1.3.1, 1.3.1, 1.3.1, 1.3.1, 1.3.1, 1.3.1, 1.3.1, 1.3.1, 1.3.1, 1.3.1, 1.3.1, 1.3.1, 1.3.1, 1.3.1, 1.3.1, 1.3.1, 1.3.2, 1.3.2, 1.3.2, 1.3.2, 1.3.2, 1.3.2, 1.3.2, 1.3.2, 1.3.2, 1.3.2, 1.3.2, 1.3.2, 1.3.2, 1.3.2, 1.3.2, 1.3.2, 1.3.2, 1.3.2, 1.3.2, 1.3.4, 1.3.4, 1.3.4, 1.3.4, 1.3.4, 1.3.4, 1.3.4, 1.3.4, 1.3.4, 1.3.4, 1.3.4, 1.3.4, 1.3.4, 1.3.4, 1.3.4, 1.3.4, 1.3.4, 1.3.4, 1.3.4, 1.3.4, 1.3.5, 1.3.5, 1.3.5, 1.3.5, 1.3.5, 1.3.5, 1.3.5, 1.3.5, 1.3.5, 1.3.5, 1.3.5, 1.3.5, 1.3.5, 1.3.5, 1.3.5, 1.3.5, 1.3.5, 1.3.5, 1.3.5, 1.4.0, 1.4.0, 1.4.0, 1.4.0, 1.4.0, 1.4.0, 1.4.0, 1.4.0, 1.4.0, 1.4.0, 1.4.0, 1.4.0, 1.4.0, 1.4.0, 1.4.0\n",
            "There are incompatible versions in the resolved dependencies.\n",
            "[pipenv.exceptions.ResolutionFailure]:       req_dir=requirements_dir\n",
            "[pipenv.exceptions.ResolutionFailure]:   File \"/usr/local/lib/python3.6/dist-packages/pipenv/utils.py\", line 726, in resolve_deps\n",
            "[pipenv.exceptions.ResolutionFailure]:       req_dir=req_dir,\n",
            "[pipenv.exceptions.ResolutionFailure]:   File \"/usr/local/lib/python3.6/dist-packages/pipenv/utils.py\", line 480, in actually_resolve_deps\n",
            "[pipenv.exceptions.ResolutionFailure]:       resolved_tree = resolver.resolve()\n",
            "[pipenv.exceptions.ResolutionFailure]:   File \"/usr/local/lib/python3.6/dist-packages/pipenv/utils.py\", line 395, in resolve\n",
            "[pipenv.exceptions.ResolutionFailure]:       raise ResolutionFailure(message=str(e))\n",
            "[pipenv.exceptions.ResolutionFailure]:       pipenv.exceptions.ResolutionFailure: ERROR: ERROR: Could not find a version that matches typed-ast<1.3.0,>=1.2.0,>=1.3.0\n",
            "[pipenv.exceptions.ResolutionFailure]:       Tried: 0.5, 0.5.1, 0.5.1, 0.5.2, 0.5.3, 0.5.4, 0.5.5, 0.5.6, 0.6.0, 0.6.1, 0.6.2, 0.6.2, 0.6.2, 0.6.2, 0.6.3, 0.6.3, 0.6.3, 0.6.3, 0.6.3, 0.6.3, 1.0.0, 1.0.0, 1.0.0, 1.0.0, 1.0.0, 1.0.0, 1.0.0, 1.0.0, 1.0.0, 1.0.0, 1.0.0, 1.0.0, 1.0.0, 1.0.0, 1.0.1, 1.0.1, 1.0.1, 1.0.1, 1.0.1, 1.0.1, 1.0.1, 1.0.1, 1.0.1, 1.0.1, 1.0.1, 1.0.1, 1.0.1, 1.0.1, 1.0.2, 1.0.2, 1.0.2, 1.0.2, 1.0.2, 1.0.2, 1.0.2, 1.0.2, 1.0.2, 1.0.2, 1.0.2, 1.0.2, 1.0.2, 1.0.2, 1.0.3, 1.0.3, 1.0.3, 1.0.3, 1.0.3, 1.0.3, 1.0.3, 1.0.3, 1.0.3, 1.0.3, 1.0.3, 1.0.3, 1.0.3, 1.0.3, 1.0.4, 1.0.4, 1.0.4, 1.0.4, 1.0.4, 1.0.4, 1.0.4, 1.0.4, 1.0.4, 1.0.4, 1.0.4, 1.0.4, 1.0.4, 1.0.4, 1.1.0, 1.1.0, 1.1.0, 1.1.0, 1.1.0, 1.1.0, 1.1.0, 1.1.0, 1.1.0, 1.1.0, 1.1.0, 1.1.0, 1.1.0, 1.1.0, 1.1.0, 1.1.0, 1.1.0, 1.1.0, 1.1.0, 1.1.0, 1.1.0, 1.1.0, 1.1.0, 1.1.1, 1.1.1, 1.1.1, 1.1.1, 1.1.1, 1.1.1, 1.1.1, 1.1.1, 1.1.1, 1.1.1, 1.1.1, 1.1.1, 1.1.1, 1.1.1, 1.1.1, 1.1.1, 1.1.1, 1.1.1, 1.1.1, 1.1.1, 1.1.1, 1.1.2, 1.1.2, 1.1.2, 1.1.2, 1.1.2, 1.1.2, 1.1.2, 1.1.2, 1.1.2, 1.1.2, 1.1.2, 1.1.2, 1.1.2, 1.1.2, 1.1.2, 1.1.2, 1.1.2, 1.1.2, 1.1.2, 1.1.2, 1.1.2, 1.2.0, 1.2.0, 1.2.0, 1.2.0, 1.2.0, 1.2.0, 1.2.0, 1.2.0, 1.2.0, 1.2.0, 1.2.0, 1.2.0, 1.2.0, 1.2.0, 1.2.0, 1.2.0, 1.2.0, 1.2.0, 1.2.0, 1.2.0, 1.2.0, 1.3.0, 1.3.0, 1.3.0, 1.3.0, 1.3.0, 1.3.0, 1.3.0, 1.3.0, 1.3.0, 1.3.0, 1.3.0, 1.3.0, 1.3.0, 1.3.0, 1.3.0, 1.3.0, 1.3.0, 1.3.0, 1.3.0, 1.3.1, 1.3.1, 1.3.1, 1.3.1, 1.3.1, 1.3.1, 1.3.1, 1.3.1, 1.3.1, 1.3.1, 1.3.1, 1.3.1, 1.3.1, 1.3.1, 1.3.1, 1.3.1, 1.3.1, 1.3.1, 1.3.1, 1.3.2, 1.3.2, 1.3.2, 1.3.2, 1.3.2, 1.3.2, 1.3.2, 1.3.2, 1.3.2, 1.3.2, 1.3.2, 1.3.2, 1.3.2, 1.3.2, 1.3.2, 1.3.2, 1.3.2, 1.3.2, 1.3.2, 1.3.4, 1.3.4, 1.3.4, 1.3.4, 1.3.4, 1.3.4, 1.3.4, 1.3.4, 1.3.4, 1.3.4, 1.3.4, 1.3.4, 1.3.4, 1.3.4, 1.3.4, 1.3.4, 1.3.4, 1.3.4, 1.3.4, 1.3.4, 1.3.5, 1.3.5, 1.3.5, 1.3.5, 1.3.5, 1.3.5, 1.3.5, 1.3.5, 1.3.5, 1.3.5, 1.3.5, 1.3.5, 1.3.5, 1.3.5, 1.3.5, 1.3.5, 1.3.5, 1.3.5, 1.3.5, 1.4.0, 1.4.0, 1.4.0, 1.4.0, 1.4.0, 1.4.0, 1.4.0, 1.4.0, 1.4.0, 1.4.0, 1.4.0, 1.4.0, 1.4.0, 1.4.0, 1.4.0\n",
            "[pipenv.exceptions.ResolutionFailure]: Warning: Your dependencies could not be resolved. You likely have a mismatch in your sub-dependencies.\n",
            "  First try clearing your dependency cache with $ pipenv lock --clear, then try the original command again.\n",
            " Alternatively, you can use $ pipenv install --skip-lock to bypass this mechanism, then run $ pipenv graph to inspect the situation.\n",
            "  Hint: try $ pipenv lock --pre if it is a pre-release dependency.\n",
            "ERROR: ERROR: Could not find a version that matches typed-ast<1.3.0,>=1.2.0,>=1.3.0\n",
            "Tried: 0.5, 0.5.1, 0.5.1, 0.5.2, 0.5.3, 0.5.4, 0.5.5, 0.5.6, 0.6.0, 0.6.1, 0.6.2, 0.6.2, 0.6.2, 0.6.2, 0.6.3, 0.6.3, 0.6.3, 0.6.3, 0.6.3, 0.6.3, 1.0.0, 1.0.0, 1.0.0, 1.0.0, 1.0.0, 1.0.0, 1.0.0, 1.0.0, 1.0.0, 1.0.0, 1.0.0, 1.0.0, 1.0.0, 1.0.0, 1.0.1, 1.0.1, 1.0.1, 1.0.1, 1.0.1, 1.0.1, 1.0.1, 1.0.1, 1.0.1, 1.0.1, 1.0.1, 1.0.1, 1.0.1, 1.0.1, 1.0.2, 1.0.2, 1.0.2, 1.0.2, 1.0.2, 1.0.2, 1.0.2, 1.0.2, 1.0.2, 1.0.2, 1.0.2, 1.0.2, 1.0.2, 1.0.2, 1.0.3, 1.0.3, 1.0.3, 1.0.3, 1.0.3, 1.0.3, 1.0.3, 1.0.3, 1.0.3, 1.0.3, 1.0.3, 1.0.3, 1.0.3, 1.0.3, 1.0.4, 1.0.4, 1.0.4, 1.0.4, 1.0.4, 1.0.4, 1.0.4, 1.0.4, 1.0.4, 1.0.4, 1.0.4, 1.0.4, 1.0.4, 1.0.4, 1.1.0, 1.1.0, 1.1.0, 1.1.0, 1.1.0, 1.1.0, 1.1.0, 1.1.0, 1.1.0, 1.1.0, 1.1.0, 1.1.0, 1.1.0, 1.1.0, 1.1.0, 1.1.0, 1.1.0, 1.1.0, 1.1.0, 1.1.0, 1.1.0, 1.1.0, 1.1.0, 1.1.1, 1.1.1, 1.1.1, 1.1.1, 1.1.1, 1.1.1, 1.1.1, 1.1.1, 1.1.1, 1.1.1, 1.1.1, 1.1.1, 1.1.1, 1.1.1, 1.1.1, 1.1.1, 1.1.1, 1.1.1, 1.1.1, 1.1.1, 1.1.1, 1.1.2, 1.1.2, 1.1.2, 1.1.2, 1.1.2, 1.1.2, 1.1.2, 1.1.2, 1.1.2, 1.1.2, 1.1.2, 1.1.2, 1.1.2, 1.1.2, 1.1.2, 1.1.2, 1.1.2, 1.1.2, 1.1.2, 1.1.2, 1.1.2, 1.2.0, 1.2.0, 1.2.0, 1.2.0, 1.2.0, 1.2.0, 1.2.0, 1.2.0, 1.2.0, 1.2.0, 1.2.0, 1.2.0, 1.2.0, 1.2.0, 1.2.0, 1.2.0, 1.2.0, 1.2.0, 1.2.0, 1.2.0, 1.2.0, 1.3.0, 1.3.0, 1.3.0, 1.3.0, 1.3.0, 1.3.0, 1.3.0, 1.3.0, 1.3.0, 1.3.0, 1.3.0, 1.3.0, 1.3.0, 1.3.0, 1.3.0, 1.3.0, 1.3.0, 1.3.0, 1.3.0, 1.3.1, 1.3.1, 1.3.1, 1.3.1, 1.3.1, 1.3.1, 1.3.1, 1.3.1, 1.3.1, 1.3.1, 1.3.1, 1.3.1, 1.3.1, 1.3.1, 1.3.1, 1.3.1, 1.3.1, 1.3.1, 1.3.1, 1.3.2, 1.3.2, 1.3.2, 1.3.2, 1.3.2, 1.3.2, 1.3.2, 1.3.2, 1.3.2, 1.3.2, 1.3.2, 1.3.2, 1.3.2, 1.3.2, 1.3.2, 1.3.2, 1.3.2, 1.3.2, 1.3.2, 1.3.4, 1.3.4, 1.3.4, 1.3.4, 1.3.4, 1.3.4, 1.3.4, 1.3.4, 1.3.4, 1.3.4, 1.3.4, 1.3.4, 1.3.4, 1.3.4, 1.3.4, 1.3.4, 1.3.4, 1.3.4, 1.3.4, 1.3.4, 1.3.5, 1.3.5, 1.3.5, 1.3.5, 1.3.5, 1.3.5, 1.3.5, 1.3.5, 1.3.5, 1.3.5, 1.3.5, 1.3.5, 1.3.5, 1.3.5, 1.3.5, 1.3.5, 1.3.5, 1.3.5, 1.3.5, 1.4.0, 1.4.0, 1.4.0, 1.4.0, 1.4.0, 1.4.0, 1.4.0, 1.4.0, 1.4.0, 1.4.0, 1.4.0, 1.4.0, 1.4.0, 1.4.0, 1.4.0\n",
            "There are incompatible versions in the resolved dependencies.\n",
            "\u001b[0m"
          ],
          "name": "stdout"
        }
      ]
    },
    {
      "cell_type": "code",
      "metadata": {
        "id": "_6LE8Zxl7XUP",
        "colab_type": "code",
        "outputId": "71242e69-9f50-4fc6-dffd-024f6f8e05bc",
        "colab": {
          "base_uri": "https://localhost:8080/",
          "height": 34
        }
      },
      "source": [
        "cd /content/fsdl-text-recognizer-project/lab2_sln"
      ],
      "execution_count": 11,
      "outputs": [
        {
          "output_type": "stream",
          "text": [
            "/content/fsdl-text-recognizer-project/lab2_sln\n"
          ],
          "name": "stdout"
        }
      ]
    },
    {
      "cell_type": "code",
      "metadata": {
        "id": "CcEdf-mI9yBS",
        "colab_type": "code",
        "outputId": "ec684f58-23b9-4afc-b7f0-a0a0bec1c7cc",
        "colab": {
          "base_uri": "https://localhost:8080/",
          "height": 34
        }
      },
      "source": [
        "#!pip3 uninstall tensorflow-gpu\n",
        "#!pip3 install --upgrade tensorflow-gpu==1.12\n",
        "#!pip3 install --upgrade tensorflow-gpu==1.14.0\n",
        "tf.__version__"
      ],
      "execution_count": 12,
      "outputs": [
        {
          "output_type": "execute_result",
          "data": {
            "text/plain": [
              "'1.14.0'"
            ]
          },
          "metadata": {
            "tags": []
          },
          "execution_count": 12
        }
      ]
    },
    {
      "cell_type": "code",
      "metadata": {
        "id": "o9YZjLy3F8Ho",
        "colab_type": "code",
        "colab": {}
      },
      "source": [
        "#!export LD_LIBRARY_PATH=$LD_LIBRARY_PATH:/usr/local/cuda-10.0/lib64/\n",
        "import os\n",
        "os.environ['LD_LIBRARY_PATH'] += \":/usr/local/cuda-10.0/lib64/\"\n",
        "os.environ['LD_LIBRARY_PATH'] += \":/usr/local/cuda/extras/CUPTI/lib64\"\n"
      ],
      "execution_count": 0,
      "outputs": []
    },
    {
      "cell_type": "code",
      "metadata": {
        "id": "X8QFERhQMaK7",
        "colab_type": "code",
        "outputId": "0726aa3f-d446-457e-f6ce-1a4a5dadef52",
        "colab": {
          "base_uri": "https://localhost:8080/",
          "height": 34
        }
      },
      "source": [
        "#cd /usr/local/cuda-10.0/lib64\n",
        "!echo $LD_LIBRARY_PATH"
      ],
      "execution_count": 14,
      "outputs": [
        {
          "output_type": "stream",
          "text": [
            "/usr/lib64-nvidia:/usr/local/cuda-10.0/lib64/:/usr/local/cuda/extras/CUPTI/lib64\n"
          ],
          "name": "stdout"
        }
      ]
    },
    {
      "cell_type": "code",
      "metadata": {
        "id": "3B1vh2K9Mgzl",
        "colab_type": "code",
        "outputId": "33b9222c-8cd4-46ea-b1fe-c255bd269c9e",
        "colab": {
          "base_uri": "https://localhost:8080/",
          "height": 34
        }
      },
      "source": [
        "!ls"
      ],
      "execution_count": 15,
      "outputs": [
        {
          "output_type": "stream",
          "text": [
            "notebooks  readme.md  tasks  text_recognizer  training\n"
          ],
          "name": "stdout"
        }
      ]
    },
    {
      "cell_type": "code",
      "metadata": {
        "id": "Yer5mKMNVWbS",
        "colab_type": "code",
        "outputId": "acc447b8-4f81-43cf-ef73-0167a0578d29",
        "colab": {
          "base_uri": "https://localhost:8080/",
          "height": 34
        }
      },
      "source": [
        "import tensorflow as tf\n",
        "device_name = tf.test.gpu_device_name()\n",
        "if device_name != '/device:GPU:0':\n",
        "  raise SystemError('GPU device not found')\n",
        "print('Found GPU at: {}'.format(device_name))"
      ],
      "execution_count": 16,
      "outputs": [
        {
          "output_type": "stream",
          "text": [
            "Found GPU at: /device:GPU:0\n"
          ],
          "name": "stdout"
        }
      ]
    },
    {
      "cell_type": "code",
      "metadata": {
        "id": "a5aTXiC5UdUw",
        "colab_type": "code",
        "outputId": "89a2dd2e-923e-461d-d0ba-4ae2853edc70",
        "colab": {
          "base_uri": "https://localhost:8080/",
          "height": 54
        }
      },
      "source": [
        "'''!apt-get --purge remove cuda nvidia* libnvidia-*\n",
        "!dpkg -l | grep cuda- | awk '{print $2}' | xargs -n1 dpkg --purge\n",
        "!apt-get remove cuda-*\n",
        "!apt autoremove\n",
        "!apt-get update'''"
      ],
      "execution_count": 0,
      "outputs": [
        {
          "output_type": "execute_result",
          "data": {
            "text/plain": [
              "\"!apt-get --purge remove cuda nvidia* libnvidia-*\\n!dpkg -l | grep cuda- | awk '{print $2}' | xargs -n1 dpkg --purge\\n!apt-get remove cuda-*\\n!apt autoremove\\n!apt-get update\""
            ]
          },
          "metadata": {
            "tags": []
          },
          "execution_count": 19
        }
      ]
    },
    {
      "cell_type": "code",
      "metadata": {
        "id": "fDAWnxBVGTgI",
        "colab_type": "code",
        "outputId": "6ecc586a-fcfe-4d9e-e840-6c9ffb5cd211",
        "colab": {
          "base_uri": "https://localhost:8080/",
          "height": 85
        }
      },
      "source": [
        "!nvcc --version"
      ],
      "execution_count": 17,
      "outputs": [
        {
          "output_type": "stream",
          "text": [
            "nvcc: NVIDIA (R) Cuda compiler driver\n",
            "Copyright (c) 2005-2018 NVIDIA Corporation\n",
            "Built on Sat_Aug_25_21:08:01_CDT_2018\n",
            "Cuda compilation tools, release 10.0, V10.0.130\n"
          ],
          "name": "stdout"
        }
      ]
    },
    {
      "cell_type": "code",
      "metadata": {
        "id": "XiIpa1b0OgCV",
        "colab_type": "code",
        "colab": {}
      },
      "source": [
        "from tensorflow.keras.callbacks import EarlyStopping"
      ],
      "execution_count": 0,
      "outputs": []
    },
    {
      "cell_type": "code",
      "metadata": {
        "id": "_BzjnDVkkcs7",
        "colab_type": "code",
        "colab": {
          "base_uri": "https://localhost:8080/",
          "height": 34
        },
        "outputId": "31a190a2-1c06-4c14-a356-f40c5ce3bcf1"
      },
      "source": [
        "import os\n",
        "os.environ['PYTHONPATH'] += \":.\"\n",
        "\n",
        "!echo $PYTHONPATH"
      ],
      "execution_count": 25,
      "outputs": [
        {
          "output_type": "stream",
          "text": [
            "/env/python..:.\n"
          ],
          "name": "stdout"
        }
      ]
    },
    {
      "cell_type": "code",
      "metadata": {
        "id": "lAhfVVaD7Y87",
        "colab_type": "code",
        "outputId": "e5e89e4d-86a5-433c-e60b-63f9de1b5ab2",
        "colab": {
          "base_uri": "https://localhost:8080/",
          "height": 1000
        }
      },
      "source": [
        "#!PYTHONPATH=/usr/lib/tensorflow/lib/python3.6:$PYTHONPATH/\n",
        "!PYTHONPATH=. pipenv run training/run_experiment.py --save '{\"dataset\": \"EmnistDataset\", \"model\": \"CharacterModel\", \"network\": \"mlp\",  \"train_args\": {\"batch_size\": 256}}'\n"
      ],
      "execution_count": 19,
      "outputs": [
        {
          "output_type": "stream",
          "text": [
            "Running experiment with config {'dataset': 'EmnistDataset', 'model': 'CharacterModel', 'network': 'mlp', 'train_args': {'batch_size': 256}} on GPU 0\n",
            "Downloading raw dataset...\n",
            "709MB [00:10, 68.5MB/s]               \n",
            "Computing SHA-256...\n",
            "Unzipping EMNIST...\n",
            "Loading training data from .mat file\n",
            "Balancing classes to reduce amount of data\n",
            "Saving to HDF5 in a compressed format...\n",
            "Saving essential dataset parameters to text_recognizer/datasets...\n",
            "Cleaning up...\n",
            "EMNIST Dataset\n",
            "Num classes: 80\n",
            "Mapping: {0: '0', 1: '1', 2: '2', 3: '3', 4: '4', 5: '5', 6: '6', 7: '7', 8: '8', 9: '9', 10: 'A', 11: 'B', 12: 'C', 13: 'D', 14: 'E', 15: 'F', 16: 'G', 17: 'H', 18: 'I', 19: 'J', 20: 'K', 21: 'L', 22: 'M', 23: 'N', 24: 'O', 25: 'P', 26: 'Q', 27: 'R', 28: 'S', 29: 'T', 30: 'U', 31: 'V', 32: 'W', 33: 'X', 34: 'Y', 35: 'Z', 36: 'a', 37: 'b', 38: 'c', 39: 'd', 40: 'e', 41: 'f', 42: 'g', 43: 'h', 44: 'i', 45: 'j', 46: 'k', 47: 'l', 48: 'm', 49: 'n', 50: 'o', 51: 'p', 52: 'q', 53: 'r', 54: 's', 55: 't', 56: 'u', 57: 'v', 58: 'w', 59: 'x', 60: 'y', 61: 'z', 62: ' ', 63: '!', 64: '\"', 65: '#', 66: '&', 67: \"'\", 68: '(', 69: ')', 70: '*', 71: '+', 72: ',', 73: '-', 74: '.', 75: '/', 76: ':', 77: ';', 78: '?', 79: '_'}\n",
            "Input shape: [28, 28]\n",
            "\n",
            "WARNING: Logging before flag parsing goes to stderr.\n",
            "W0807 05:26:10.280185 140582403745664 deprecation.py:506] From /root/.local/share/virtualenvs/fsdl-text-recognizer-project-Kk-lBAQO/lib/python3.6/site-packages/tensorflow/python/ops/init_ops.py:1251: calling VarianceScaling.__init__ (from tensorflow.python.ops.init_ops) with dtype is deprecated and will be removed in a future version.\n",
            "Instructions for updating:\n",
            "Call initializer instance with the dtype argument instead of passing it to the constructor\n",
            "Model: \"sequential\"\n",
            "_________________________________________________________________\n",
            "Layer (type)                 Output Shape              Param #   \n",
            "=================================================================\n",
            "flatten (Flatten)            (None, 784)               0         \n",
            "_________________________________________________________________\n",
            "dense (Dense)                (None, 128)               100480    \n",
            "_________________________________________________________________\n",
            "dropout (Dropout)            (None, 128)               0         \n",
            "_________________________________________________________________\n",
            "dense_1 (Dense)              (None, 128)               16512     \n",
            "_________________________________________________________________\n",
            "dropout_1 (Dropout)          (None, 128)               0         \n",
            "_________________________________________________________________\n",
            "dense_2 (Dense)              (None, 128)               16512     \n",
            "_________________________________________________________________\n",
            "dropout_2 (Dropout)          (None, 128)               0         \n",
            "_________________________________________________________________\n",
            "dense_3 (Dense)              (None, 80)                10320     \n",
            "=================================================================\n",
            "Total params: 143,824\n",
            "Trainable params: 143,824\n",
            "Non-trainable params: 0\n",
            "_________________________________________________________________\n",
            "<text_recognizer.models.character_model.CharacterModel object at 0x7fdb8d215668>\n",
            "Model: \"sequential\"\n",
            "_________________________________________________________________\n",
            "Layer (type)                 Output Shape              Param #   \n",
            "=================================================================\n",
            "flatten (Flatten)            (None, 784)               0         \n",
            "_________________________________________________________________\n",
            "dense (Dense)                (None, 128)               100480    \n",
            "_________________________________________________________________\n",
            "dropout (Dropout)            (None, 128)               0         \n",
            "_________________________________________________________________\n",
            "dense_1 (Dense)              (None, 128)               16512     \n",
            "_________________________________________________________________\n",
            "dropout_1 (Dropout)          (None, 128)               0         \n",
            "_________________________________________________________________\n",
            "dense_2 (Dense)              (None, 128)               16512     \n",
            "_________________________________________________________________\n",
            "dropout_2 (Dropout)          (None, 128)               0         \n",
            "_________________________________________________________________\n",
            "dense_3 (Dense)              (None, 80)                10320     \n",
            "=================================================================\n",
            "Total params: 143,824\n",
            "Trainable params: 143,824\n",
            "Non-trainable params: 0\n",
            "_________________________________________________________________\n",
            "2019-08-07 05:26:10.651007: I tensorflow/core/platform/cpu_feature_guard.cc:142] Your CPU supports instructions that this TensorFlow binary was not compiled to use: AVX2 FMA\n",
            "2019-08-07 05:26:10.683482: I tensorflow/stream_executor/platform/default/dso_loader.cc:42] Successfully opened dynamic library libcuda.so.1\n",
            "2019-08-07 05:26:10.766957: I tensorflow/stream_executor/cuda/cuda_gpu_executor.cc:1005] successful NUMA node read from SysFS had negative value (-1), but there must be at least one NUMA node, so returning NUMA node zero\n",
            "2019-08-07 05:26:10.767587: I tensorflow/compiler/xla/service/service.cc:168] XLA service 0x8064700 executing computations on platform CUDA. Devices:\n",
            "2019-08-07 05:26:10.767636: I tensorflow/compiler/xla/service/service.cc:175]   StreamExecutor device (0): Tesla K80, Compute Capability 3.7\n",
            "2019-08-07 05:26:10.770673: I tensorflow/core/platform/profile_utils/cpu_utils.cc:94] CPU Frequency: 2200000000 Hz\n",
            "2019-08-07 05:26:10.770947: I tensorflow/compiler/xla/service/service.cc:168] XLA service 0x8064fc0 executing computations on platform Host. Devices:\n",
            "2019-08-07 05:26:10.770986: I tensorflow/compiler/xla/service/service.cc:175]   StreamExecutor device (0): <undefined>, <undefined>\n",
            "2019-08-07 05:26:10.771235: I tensorflow/stream_executor/cuda/cuda_gpu_executor.cc:1005] successful NUMA node read from SysFS had negative value (-1), but there must be at least one NUMA node, so returning NUMA node zero\n",
            "2019-08-07 05:26:10.771686: I tensorflow/core/common_runtime/gpu/gpu_device.cc:1640] Found device 0 with properties: \n",
            "name: Tesla K80 major: 3 minor: 7 memoryClockRate(GHz): 0.8235\n",
            "pciBusID: 0000:00:04.0\n",
            "2019-08-07 05:26:10.775047: I tensorflow/stream_executor/platform/default/dso_loader.cc:42] Successfully opened dynamic library libcudart.so.10.0\n",
            "2019-08-07 05:26:10.781699: I tensorflow/stream_executor/platform/default/dso_loader.cc:42] Successfully opened dynamic library libcublas.so.10.0\n",
            "2019-08-07 05:26:10.785611: I tensorflow/stream_executor/platform/default/dso_loader.cc:42] Successfully opened dynamic library libcufft.so.10.0\n",
            "2019-08-07 05:26:10.793097: I tensorflow/stream_executor/platform/default/dso_loader.cc:42] Successfully opened dynamic library libcurand.so.10.0\n",
            "2019-08-07 05:26:10.803598: I tensorflow/stream_executor/platform/default/dso_loader.cc:42] Successfully opened dynamic library libcusolver.so.10.0\n",
            "2019-08-07 05:26:10.809738: I tensorflow/stream_executor/platform/default/dso_loader.cc:42] Successfully opened dynamic library libcusparse.so.10.0\n",
            "2019-08-07 05:26:10.824366: I tensorflow/stream_executor/platform/default/dso_loader.cc:42] Successfully opened dynamic library libcudnn.so.7\n",
            "2019-08-07 05:26:10.824530: I tensorflow/stream_executor/cuda/cuda_gpu_executor.cc:1005] successful NUMA node read from SysFS had negative value (-1), but there must be at least one NUMA node, so returning NUMA node zero\n",
            "2019-08-07 05:26:10.825028: I tensorflow/stream_executor/cuda/cuda_gpu_executor.cc:1005] successful NUMA node read from SysFS had negative value (-1), but there must be at least one NUMA node, so returning NUMA node zero\n",
            "2019-08-07 05:26:10.825433: I tensorflow/core/common_runtime/gpu/gpu_device.cc:1763] Adding visible gpu devices: 0\n",
            "2019-08-07 05:26:10.825556: I tensorflow/stream_executor/platform/default/dso_loader.cc:42] Successfully opened dynamic library libcudart.so.10.0\n",
            "2019-08-07 05:26:10.826613: I tensorflow/core/common_runtime/gpu/gpu_device.cc:1181] Device interconnect StreamExecutor with strength 1 edge matrix:\n",
            "2019-08-07 05:26:10.826650: I tensorflow/core/common_runtime/gpu/gpu_device.cc:1187]      0 \n",
            "2019-08-07 05:26:10.826668: I tensorflow/core/common_runtime/gpu/gpu_device.cc:1200] 0:   N \n",
            "2019-08-07 05:26:10.826983: I tensorflow/stream_executor/cuda/cuda_gpu_executor.cc:1005] successful NUMA node read from SysFS had negative value (-1), but there must be at least one NUMA node, so returning NUMA node zero\n",
            "2019-08-07 05:26:10.827424: I tensorflow/stream_executor/cuda/cuda_gpu_executor.cc:1005] successful NUMA node read from SysFS had negative value (-1), but there must be at least one NUMA node, so returning NUMA node zero\n",
            "2019-08-07 05:26:10.827804: W tensorflow/core/common_runtime/gpu/gpu_bfc_allocator.cc:40] Overriding allow_growth setting because the TF_FORCE_GPU_ALLOW_GROWTH environment variable is set. Original config value was 0.\n",
            "2019-08-07 05:26:10.827881: I tensorflow/core/common_runtime/gpu/gpu_device.cc:1326] Created TensorFlow device (/job:localhost/replica:0/task:0/device:GPU:0 with 10742 MB memory) -> physical GPU (device: 0, name: Tesla K80, pci bus id: 0000:00:04.0, compute capability: 3.7)\n",
            "Epoch 1/16\n",
            "2019-08-07 05:26:12.129425: I tensorflow/stream_executor/platform/default/dso_loader.cc:42] Successfully opened dynamic library libcublas.so.10.0\n",
            "1314/1314 [==============================] - 15s 11ms/step - loss: 3.4382 - acc: 0.2003 - val_loss: 2.5518 - val_acc: 0.3655\n",
            "Epoch 2/16\n",
            "1314/1314 [==============================] - 11s 9ms/step - loss: 1.3008 - acc: 0.6045 - val_loss: 0.8190 - val_acc: 0.7217\n",
            "Epoch 3/16\n",
            "1314/1314 [==============================] - 12s 9ms/step - loss: 0.9582 - acc: 0.6842 - val_loss: 0.7226 - val_acc: 0.7462\n",
            "Epoch 4/16\n",
            "1314/1314 [==============================] - 12s 9ms/step - loss: 0.8842 - acc: 0.7045 - val_loss: 0.6879 - val_acc: 0.7571\n",
            "Epoch 5/16\n",
            "1314/1314 [==============================] - 12s 9ms/step - loss: 0.8430 - acc: 0.7151 - val_loss: 0.6694 - val_acc: 0.7612\n",
            "Epoch 6/16\n",
            "1314/1314 [==============================] - 12s 9ms/step - loss: 0.8196 - acc: 0.7225 - val_loss: 0.6559 - val_acc: 0.7635\n",
            "Epoch 7/16\n",
            "1314/1314 [==============================] - 12s 9ms/step - loss: 0.8055 - acc: 0.7262 - val_loss: 0.6458 - val_acc: 0.7688\n",
            "Epoch 8/16\n",
            "1314/1314 [==============================] - 12s 9ms/step - loss: 0.7917 - acc: 0.7302 - val_loss: 0.6415 - val_acc: 0.7695\n",
            "Epoch 9/16\n",
            "1314/1314 [==============================] - 12s 9ms/step - loss: 0.7838 - acc: 0.7321 - val_loss: 0.6333 - val_acc: 0.7722\n",
            "Epoch 10/16\n",
            "1314/1314 [==============================] - 12s 9ms/step - loss: 0.7764 - acc: 0.7358 - val_loss: 0.6307 - val_acc: 0.7724\n",
            "Epoch 11/16\n",
            "1314/1314 [==============================] - 12s 9ms/step - loss: 0.7700 - acc: 0.7368 - val_loss: 0.6243 - val_acc: 0.7741\n",
            "Epoch 12/16\n",
            "1314/1314 [==============================] - 12s 9ms/step - loss: 0.7666 - acc: 0.7373 - val_loss: 0.6244 - val_acc: 0.7742\n",
            "Epoch 00012: early stopping\n",
            "Training took 150.026120 s\n",
            "GPU utilization: 24.71 +- 2.25\n",
            "Test evaluation: 0.7741669504741078\n"
          ],
          "name": "stdout"
        }
      ]
    },
    {
      "cell_type": "code",
      "metadata": {
        "id": "llY6TqiCGSEF",
        "colab_type": "code",
        "outputId": "82ddd9ae-099a-4d03-97c0-5636c1c3d497",
        "colab": {
          "base_uri": "https://localhost:8080/",
          "height": 1000
        }
      },
      "source": [
        "!pipenv run pytest -s text_recognizer/tests/test_character_predictor.py"
      ],
      "execution_count": 26,
      "outputs": [
        {
          "output_type": "stream",
          "text": [
            "\u001b[1m============================= test session starts ==============================\u001b[0m\n",
            "platform linux -- Python 3.6.8, pytest-4.3.0, py-1.8.0, pluggy-0.9.0\n",
            "rootdir: /content/fsdl-text-recognizer-project/lab2_sln, inifile:\n",
            "collected 1 item                                                               \u001b[0m\n",
            "\n",
            "text_recognizer/tests/test_character_predictor.py WARNING: Logging before flag parsing goes to stderr.\n",
            "W0807 05:41:40.360170 139985006159744 deprecation.py:506] From /root/.local/share/virtualenvs/fsdl-text-recognizer-project-Kk-lBAQO/lib/python3.6/site-packages/tensorflow/python/ops/init_ops.py:1251: calling VarianceScaling.__init__ (from tensorflow.python.ops.init_ops) with dtype is deprecated and will be removed in a future version.\n",
            "Instructions for updating:\n",
            "Call initializer instance with the dtype argument instead of passing it to the constructor\n",
            "Model: \"sequential\"\n",
            "_________________________________________________________________\n",
            "Layer (type)                 Output Shape              Param #   \n",
            "=================================================================\n",
            "flatten (Flatten)            (None, 784)               0         \n",
            "_________________________________________________________________\n",
            "dense (Dense)                (None, 128)               100480    \n",
            "_________________________________________________________________\n",
            "dropout (Dropout)            (None, 128)               0         \n",
            "_________________________________________________________________\n",
            "dense_1 (Dense)              (None, 128)               16512     \n",
            "_________________________________________________________________\n",
            "dropout_1 (Dropout)          (None, 128)               0         \n",
            "_________________________________________________________________\n",
            "dense_2 (Dense)              (None, 128)               16512     \n",
            "_________________________________________________________________\n",
            "dropout_2 (Dropout)          (None, 128)               0         \n",
            "_________________________________________________________________\n",
            "dense_3 (Dense)              (None, 80)                10320     \n",
            "=================================================================\n",
            "Total params: 143,824\n",
            "Trainable params: 143,824\n",
            "Non-trainable params: 0\n",
            "_________________________________________________________________\n",
            "2019-08-07 05:41:40.548084: I tensorflow/core/platform/cpu_feature_guard.cc:142] Your CPU supports instructions that this TensorFlow binary was not compiled to use: AVX2 FMA\n",
            "2019-08-07 05:41:40.554555: I tensorflow/stream_executor/platform/default/dso_loader.cc:42] Successfully opened dynamic library libcuda.so.1\n",
            "2019-08-07 05:41:40.557380: E tensorflow/stream_executor/cuda/cuda_driver.cc:318] failed call to cuInit: CUDA_ERROR_NO_DEVICE: no CUDA-capable device is detected\n",
            "2019-08-07 05:41:40.557501: I tensorflow/stream_executor/cuda/cuda_diagnostics.cc:169] retrieving CUDA diagnostic information for host: 0ba68a439b66\n",
            "2019-08-07 05:41:40.557525: I tensorflow/stream_executor/cuda/cuda_diagnostics.cc:176] hostname: 0ba68a439b66\n",
            "2019-08-07 05:41:40.557608: I tensorflow/stream_executor/cuda/cuda_diagnostics.cc:200] libcuda reported version is: 410.79.0\n",
            "2019-08-07 05:41:40.557670: I tensorflow/stream_executor/cuda/cuda_diagnostics.cc:204] kernel reported version is: 410.79.0\n",
            "2019-08-07 05:41:40.557694: I tensorflow/stream_executor/cuda/cuda_diagnostics.cc:310] kernel version seems to match DSO: 410.79.0\n",
            "2019-08-07 05:41:40.560046: I tensorflow/core/platform/profile_utils/cpu_utils.cc:94] CPU Frequency: 2200000000 Hz\n",
            "2019-08-07 05:41:40.560294: I tensorflow/compiler/xla/service/service.cc:168] XLA service 0x4cf9880 executing computations on platform Host. Devices:\n",
            "2019-08-07 05:41:40.560358: I tensorflow/compiler/xla/service/service.cc:175]   StreamExecutor device (0): <undefined>, <undefined>\n",
            "2019-08-07 05:41:40.578419: W tensorflow/compiler/jit/mark_for_compilation_pass.cc:1412] (One-time warning): Not using XLA:CPU for cluster because envvar TF_XLA_FLAGS=--tf_xla_cpu_global_jit was not set.  If you want XLA:CPU, either set that envvar, or use experimental_jit_scope to enable XLA:CPU.  To confirm that XLA is active, pass --vmodule=xla_compilation_cache=1 (as a proper command-line flag, not via TF_XLA_FLAGS) or set the envvar XLA_FLAGS=--xla_hlo_profile.\n",
            "\u001b[31mF\u001b[0m\n",
            "\n",
            "=================================== FAILURES ===================================\n",
            "\u001b[31m\u001b[1m_____________________ TestCharacterPredictor.test_filename _____________________\u001b[0m\n",
            "\n",
            "image_uri = '/content/fsdl-text-recognizer-project/lab2_sln/text_recognizer/tests/support/emnist/e.png'\n",
            "grayscale = True\n",
            "\n",
            "\u001b[1m    def read_image(image_uri: Union[Path, str], grayscale=False) -> np.array:\u001b[0m\n",
            "\u001b[1m        \"\"\"Read image_uri.\"\"\"\u001b[0m\n",
            "\u001b[1m        def read_image_from_filename(image_filename, imread_flag):\u001b[0m\n",
            "\u001b[1m            return cv2.imread(str(image_filename), imread_flag)\u001b[0m\n",
            "\u001b[1m    \u001b[0m\n",
            "\u001b[1m        def read_image_from_url(image_url, imread_flag):\u001b[0m\n",
            "\u001b[1m            url_response = urlopen(str(image_url))  # nosec\u001b[0m\n",
            "\u001b[1m            img_array = np.array(bytearray(url_response.read()), dtype=np.uint8)\u001b[0m\n",
            "\u001b[1m            return cv2.imdecode(img_array, imread_flag)\u001b[0m\n",
            "\u001b[1m    \u001b[0m\n",
            "\u001b[1m        imread_flag = cv2.IMREAD_GRAYSCALE if grayscale else cv2.IMREAD_COLOR\u001b[0m\n",
            "\u001b[1m        local_file = os.path.exists(image_uri)\u001b[0m\n",
            "\u001b[1m        try:\u001b[0m\n",
            "\u001b[1m            img = None\u001b[0m\n",
            "\u001b[1m            if local_file:\u001b[0m\n",
            "\u001b[1m                img = read_image_from_filename(image_uri, imread_flag)\u001b[0m\n",
            "\u001b[1m            else:\u001b[0m\n",
            "\u001b[1m                img = read_image_from_url(image_uri, imread_flag)\u001b[0m\n",
            "\u001b[1m>           assert img is not None\u001b[0m\n",
            "\u001b[1m\u001b[31mE           AssertionError\u001b[0m\n",
            "\n",
            "\u001b[1m\u001b[31mtext_recognizer/util.py\u001b[0m:32: AssertionError\n",
            "\n",
            "\u001b[33mDuring handling of the above exception, another exception occurred:\u001b[0m\n",
            "\n",
            "self = <test_character_predictor.TestCharacterPredictor testMethod=test_filename>\n",
            "\n",
            "\u001b[1m    def test_filename(self):\u001b[0m\n",
            "\u001b[1m        predictor = CharacterPredictor()\u001b[0m\n",
            "\u001b[1m    \u001b[0m\n",
            "\u001b[1m        for filename in SUPPORT_DIRNAME.glob('*.png'):\u001b[0m\n",
            "\u001b[1m>           pred, conf = predictor.predict(str(filename))\u001b[0m\n",
            "\n",
            "\u001b[1m\u001b[31mtext_recognizer/tests/test_character_predictor.py\u001b[0m:18: \n",
            "_ _ _ _ _ _ _ _ _ _ _ _ _ _ _ _ _ _ _ _ _ _ _ _ _ _ _ _ _ _ _ _ _ _ _ _ _ _ _ _ \n",
            "\u001b[1m\u001b[31mtext_recognizer/character_predictor.py\u001b[0m:19: in predict\n",
            "\u001b[1m    image = util.read_image(image_or_filename, grayscale=True)\u001b[0m\n",
            "_ _ _ _ _ _ _ _ _ _ _ _ _ _ _ _ _ _ _ _ _ _ _ _ _ _ _ _ _ _ _ _ _ _ _ _ _ _ _ _ \n",
            "\n",
            "image_uri = '/content/fsdl-text-recognizer-project/lab2_sln/text_recognizer/tests/support/emnist/e.png'\n",
            "grayscale = True\n",
            "\n",
            "\u001b[1m    def read_image(image_uri: Union[Path, str], grayscale=False) -> np.array:\u001b[0m\n",
            "\u001b[1m        \"\"\"Read image_uri.\"\"\"\u001b[0m\n",
            "\u001b[1m        def read_image_from_filename(image_filename, imread_flag):\u001b[0m\n",
            "\u001b[1m            return cv2.imread(str(image_filename), imread_flag)\u001b[0m\n",
            "\u001b[1m    \u001b[0m\n",
            "\u001b[1m        def read_image_from_url(image_url, imread_flag):\u001b[0m\n",
            "\u001b[1m            url_response = urlopen(str(image_url))  # nosec\u001b[0m\n",
            "\u001b[1m            img_array = np.array(bytearray(url_response.read()), dtype=np.uint8)\u001b[0m\n",
            "\u001b[1m            return cv2.imdecode(img_array, imread_flag)\u001b[0m\n",
            "\u001b[1m    \u001b[0m\n",
            "\u001b[1m        imread_flag = cv2.IMREAD_GRAYSCALE if grayscale else cv2.IMREAD_COLOR\u001b[0m\n",
            "\u001b[1m        local_file = os.path.exists(image_uri)\u001b[0m\n",
            "\u001b[1m        try:\u001b[0m\n",
            "\u001b[1m            img = None\u001b[0m\n",
            "\u001b[1m            if local_file:\u001b[0m\n",
            "\u001b[1m                img = read_image_from_filename(image_uri, imread_flag)\u001b[0m\n",
            "\u001b[1m            else:\u001b[0m\n",
            "\u001b[1m                img = read_image_from_url(image_uri, imread_flag)\u001b[0m\n",
            "\u001b[1m            assert img is not None\u001b[0m\n",
            "\u001b[1m        except Exception as e:\u001b[0m\n",
            "\u001b[1m>           raise ValueError(\"Could not load image at {}: {}\".format(image_uri, e))\u001b[0m\n",
            "\u001b[1m\u001b[31mE           ValueError: Could not load image at /content/fsdl-text-recognizer-project/lab2_sln/text_recognizer/tests/support/emnist/e.png:\u001b[0m\n",
            "\n",
            "\u001b[1m\u001b[31mtext_recognizer/util.py\u001b[0m:34: ValueError\n",
            "------------------------------ Captured log call -------------------------------\n",
            "deprecation.py             506 WARNING  From /root/.local/share/virtualenvs/fsdl-text-recognizer-project-Kk-lBAQO/lib/python3.6/site-packages/tensorflow/python/ops/init_ops.py:1251: calling VarianceScaling.__init__ (from tensorflow.python.ops.init_ops) with dtype is deprecated and will be removed in a future version.\n",
            "Instructions for updating:\n",
            "Call initializer instance with the dtype argument instead of passing it to the constructor\n",
            "\u001b[31m\u001b[1m=========================== 1 failed in 2.24 seconds ===========================\u001b[0m\n"
          ],
          "name": "stdout"
        }
      ]
    },
    {
      "cell_type": "code",
      "metadata": {
        "id": "ax9VsynB8blx",
        "colab_type": "code",
        "outputId": "05bbce6e-cd78-458b-b7f6-b356714339ac",
        "colab": {
          "base_uri": "https://localhost:8080/",
          "height": 34
        }
      },
      "source": [
        "#!protoc --version\n",
        "! python -c 'import tensorflow as tf; print(tf.sysconfig.get_lib() + \"/python/_pywrap_tensorflow_internal.so\")' \n"
      ],
      "execution_count": 0,
      "outputs": [
        {
          "output_type": "stream",
          "text": [
            "/usr/local/lib/python3.6/dist-packages/tensorflow/python/_pywrap_tensorflow_internal.so\n"
          ],
          "name": "stdout"
        }
      ]
    },
    {
      "cell_type": "code",
      "metadata": {
        "id": "TqQZSqLmmigQ",
        "colab_type": "code",
        "colab": {
          "base_uri": "https://localhost:8080/",
          "height": 34
        },
        "outputId": "af9ac4bb-f883-4780-dfad-66ea3d5e0c04"
      },
      "source": [
        "cd /content/fsdl-text-recognizer-project/lab3_sln"
      ],
      "execution_count": 27,
      "outputs": [
        {
          "output_type": "stream",
          "text": [
            "/content/fsdl-text-recognizer-project/lab3_sln\n"
          ],
          "name": "stdout"
        }
      ]
    },
    {
      "cell_type": "code",
      "metadata": {
        "id": "HR5_Tt-ZmimK",
        "colab_type": "code",
        "colab": {
          "base_uri": "https://localhost:8080/",
          "height": 1000
        },
        "outputId": "308b9877-7732-4498-f6d4-355334681293"
      },
      "source": [
        "!pipenv run python training/run_experiment.py --save '{\"train_args\": {\"epochs\": 16}, \"dataset\": \"EmnistLinesDataset\", \"model\": \"LineModelCtc\", \"network\": \"line_lstm_ctc\"}'\n"
      ],
      "execution_count": 28,
      "outputs": [
        {
          "output_type": "stream",
          "text": [
            "WARNING: Logging before flag parsing goes to stderr.\n",
            "W0807 05:44:08.431955 140298052859776 deprecation_wrapper.py:119] From /content/fsdl-text-recognizer-project/lab3_sln/text_recognizer/networks/line_lstm_ctc.py:4: The name tf.keras.layers.CuDNNLSTM is deprecated. Please use tf.compat.v1.keras.layers.CuDNNLSTM instead.\n",
            "\n",
            "Running experiment with config {'train_args': {'epochs': 16}, 'dataset': 'EmnistLinesDataset', 'model': 'LineModelCtc', 'network': 'line_lstm_ctc'} on GPU 0\n",
            "EmnistLinesDataset generating data...\n",
            "[nltk_data] Downloading package brown to /content/fsdl-text-\n",
            "[nltk_data]     recognizer-project/data/raw/nltk...\n",
            "[nltk_data]   Unzipping corpora/brown.zip.\n",
            "EmnistLinesDataset generating data...\n",
            "EmnistLinesDataset loading data from HDF5...\n",
            "EMNIST Lines Dataset\n",
            "Max length: 34\n",
            "Max overlap: 0.33\n",
            "Num classes: 80\n",
            "Input shape: (28, 952)\n",
            "Train: (10000, 28, 952) (10000, 34, 80)\n",
            "Test: (1000, 28, 952) (1000, 34, 80)\n",
            "\n",
            "2019-08-07 05:44:31.248586: I tensorflow/core/platform/cpu_feature_guard.cc:142] Your CPU supports instructions that this TensorFlow binary was not compiled to use: AVX2 FMA\n",
            "2019-08-07 05:44:31.254377: I tensorflow/stream_executor/platform/default/dso_loader.cc:42] Successfully opened dynamic library libcuda.so.1\n",
            "2019-08-07 05:44:31.316994: I tensorflow/stream_executor/cuda/cuda_gpu_executor.cc:1005] successful NUMA node read from SysFS had negative value (-1), but there must be at least one NUMA node, so returning NUMA node zero\n",
            "2019-08-07 05:44:31.317624: I tensorflow/compiler/xla/service/service.cc:168] XLA service 0x2bf3f80 executing computations on platform CUDA. Devices:\n",
            "2019-08-07 05:44:31.317664: I tensorflow/compiler/xla/service/service.cc:175]   StreamExecutor device (0): Tesla K80, Compute Capability 3.7\n",
            "2019-08-07 05:44:31.320084: I tensorflow/core/platform/profile_utils/cpu_utils.cc:94] CPU Frequency: 2200000000 Hz\n",
            "2019-08-07 05:44:31.320529: I tensorflow/compiler/xla/service/service.cc:168] XLA service 0x2bf5800 executing computations on platform Host. Devices:\n",
            "2019-08-07 05:44:31.320586: I tensorflow/compiler/xla/service/service.cc:175]   StreamExecutor device (0): <undefined>, <undefined>\n",
            "2019-08-07 05:44:31.320774: I tensorflow/stream_executor/cuda/cuda_gpu_executor.cc:1005] successful NUMA node read from SysFS had negative value (-1), but there must be at least one NUMA node, so returning NUMA node zero\n",
            "2019-08-07 05:44:31.321183: I tensorflow/core/common_runtime/gpu/gpu_device.cc:1640] Found device 0 with properties: \n",
            "name: Tesla K80 major: 3 minor: 7 memoryClockRate(GHz): 0.8235\n",
            "pciBusID: 0000:00:04.0\n",
            "2019-08-07 05:44:31.321581: I tensorflow/stream_executor/platform/default/dso_loader.cc:42] Successfully opened dynamic library libcudart.so.10.0\n",
            "2019-08-07 05:44:31.323111: I tensorflow/stream_executor/platform/default/dso_loader.cc:42] Successfully opened dynamic library libcublas.so.10.0\n",
            "2019-08-07 05:44:31.324578: I tensorflow/stream_executor/platform/default/dso_loader.cc:42] Successfully opened dynamic library libcufft.so.10.0\n",
            "2019-08-07 05:44:31.324992: I tensorflow/stream_executor/platform/default/dso_loader.cc:42] Successfully opened dynamic library libcurand.so.10.0\n",
            "2019-08-07 05:44:31.326778: I tensorflow/stream_executor/platform/default/dso_loader.cc:42] Successfully opened dynamic library libcusolver.so.10.0\n",
            "2019-08-07 05:44:31.328372: I tensorflow/stream_executor/platform/default/dso_loader.cc:42] Successfully opened dynamic library libcusparse.so.10.0\n",
            "2019-08-07 05:44:31.332404: I tensorflow/stream_executor/platform/default/dso_loader.cc:42] Successfully opened dynamic library libcudnn.so.7\n",
            "2019-08-07 05:44:31.332565: I tensorflow/stream_executor/cuda/cuda_gpu_executor.cc:1005] successful NUMA node read from SysFS had negative value (-1), but there must be at least one NUMA node, so returning NUMA node zero\n",
            "2019-08-07 05:44:31.333046: I tensorflow/stream_executor/cuda/cuda_gpu_executor.cc:1005] successful NUMA node read from SysFS had negative value (-1), but there must be at least one NUMA node, so returning NUMA node zero\n",
            "2019-08-07 05:44:31.333440: I tensorflow/core/common_runtime/gpu/gpu_device.cc:1763] Adding visible gpu devices: 0\n",
            "2019-08-07 05:44:31.333518: I tensorflow/stream_executor/platform/default/dso_loader.cc:42] Successfully opened dynamic library libcudart.so.10.0\n",
            "2019-08-07 05:44:31.334657: I tensorflow/core/common_runtime/gpu/gpu_device.cc:1181] Device interconnect StreamExecutor with strength 1 edge matrix:\n",
            "2019-08-07 05:44:31.334695: I tensorflow/core/common_runtime/gpu/gpu_device.cc:1187]      0 \n",
            "2019-08-07 05:44:31.334713: I tensorflow/core/common_runtime/gpu/gpu_device.cc:1200] 0:   N \n",
            "2019-08-07 05:44:31.335081: I tensorflow/stream_executor/cuda/cuda_gpu_executor.cc:1005] successful NUMA node read from SysFS had negative value (-1), but there must be at least one NUMA node, so returning NUMA node zero\n",
            "2019-08-07 05:44:31.335540: I tensorflow/stream_executor/cuda/cuda_gpu_executor.cc:1005] successful NUMA node read from SysFS had negative value (-1), but there must be at least one NUMA node, so returning NUMA node zero\n",
            "2019-08-07 05:44:31.335913: W tensorflow/core/common_runtime/gpu/gpu_bfc_allocator.cc:40] Overriding allow_growth setting because the TF_FORCE_GPU_ALLOW_GROWTH environment variable is set. Original config value was 0.\n",
            "2019-08-07 05:44:31.335978: I tensorflow/core/common_runtime/gpu/gpu_device.cc:1326] Created TensorFlow device (/device:GPU:0 with 10742 MB memory) -> physical GPU (device: 0, name: Tesla K80, pci bus id: 0000:00:04.0, compute capability: 3.7)\n",
            "W0807 05:44:31.390685 140298052859776 deprecation.py:506] From /content/fsdl-text-recognizer-project/lab3_sln/text_recognizer/networks/misc.py:12: calling extract_image_patches (from tensorflow.python.ops.array_ops) with ksizes is deprecated and will be removed in a future version.\n",
            "Instructions for updating:\n",
            "ksizes is deprecated, use sizes instead\n",
            "W0807 05:44:31.400213 140298052859776 deprecation.py:506] From /root/.local/share/virtualenvs/fsdl-text-recognizer-project-Kk-lBAQO/lib/python3.6/site-packages/tensorflow/python/ops/init_ops.py:1251: calling VarianceScaling.__init__ (from tensorflow.python.ops.init_ops) with dtype is deprecated and will be removed in a future version.\n",
            "Instructions for updating:\n",
            "Call initializer instance with the dtype argument instead of passing it to the constructor\n",
            "W0807 05:44:31.998454 140298052859776 deprecation.py:323] From /root/.local/share/virtualenvs/fsdl-text-recognizer-project-Kk-lBAQO/lib/python3.6/site-packages/tensorflow/python/ops/array_ops.py:1354: add_dispatch_support.<locals>.wrapper (from tensorflow.python.ops.array_ops) is deprecated and will be removed in a future version.\n",
            "Instructions for updating:\n",
            "Use tf.where in 2.0, which has the same broadcast rule as np.where\n",
            "W0807 05:44:32.046438 140298052859776 deprecation_wrapper.py:119] From /content/fsdl-text-recognizer-project/lab3_sln/text_recognizer/networks/ctc.py:24: The name tf.log is deprecated. Please use tf.math.log instead.\n",
            "\n",
            "W0807 05:44:32.050723 140298052859776 deprecation.py:323] From /content/fsdl-text-recognizer-project/lab3_sln/text_recognizer/networks/ctc.py:25: to_int32 (from tensorflow.python.ops.math_ops) is deprecated and will be removed in a future version.\n",
            "Instructions for updating:\n",
            "Use `tf.cast` instead.\n",
            "W0807 05:44:32.052693 140298052859776 deprecation.py:323] From /content/fsdl-text-recognizer-project/lab3_sln/text_recognizer/networks/ctc.py:30: sparse_to_dense (from tensorflow.python.ops.sparse_ops) is deprecated and will be removed in a future version.\n",
            "Instructions for updating:\n",
            "Create a `tf.sparse.SparseTensor` and use `tf.sparse.to_dense` instead.\n",
            "Model: \"model_1\"\n",
            "__________________________________________________________________________________________________\n",
            "Layer (type)                    Output Shape         Param #     Connected to                     \n",
            "==================================================================================================\n",
            "image (InputLayer)              [(None, 28, 952)]    0                                            \n",
            "__________________________________________________________________________________________________\n",
            "reshape (Reshape)               (None, 28, 952, 1)   0           image[0][0]                      \n",
            "__________________________________________________________________________________________________\n",
            "lambda (Lambda)                 (None, 189, 28, 12,  0           reshape[0][0]                    \n",
            "__________________________________________________________________________________________________\n",
            "time_distributed (TimeDistribut (None, 189, 128)     412160      lambda[0][0]                     \n",
            "__________________________________________________________________________________________________\n",
            "cu_dnnlstm (CuDNNLSTM)          (None, 189, 128)     132096      time_distributed[0][0]           \n",
            "__________________________________________________________________________________________________\n",
            "input_length (InputLayer)       [(None, 1)]          0                                            \n",
            "__________________________________________________________________________________________________\n",
            "y_true (InputLayer)             [(None, 34)]         0                                            \n",
            "__________________________________________________________________________________________________\n",
            "softmax_output (Dense)          (None, 189, 80)      10320       cu_dnnlstm[0][0]                 \n",
            "__________________________________________________________________________________________________\n",
            "lambda_1 (Lambda)               (None, 1)            0           input_length[0][0]               \n",
            "__________________________________________________________________________________________________\n",
            "label_length (InputLayer)       [(None, 1)]          0                                            \n",
            "__________________________________________________________________________________________________\n",
            "ctc_loss (Lambda)               (None, 1)            0           y_true[0][0]                     \n",
            "                                                                 softmax_output[0][0]             \n",
            "                                                                 lambda_1[0][0]                   \n",
            "                                                                 label_length[0][0]               \n",
            "__________________________________________________________________________________________________\n",
            "ctc_decoded (Lambda)            (None, None)         0           softmax_output[0][0]             \n",
            "                                                                 lambda_1[0][0]                   \n",
            "==================================================================================================\n",
            "Total params: 554,576\n",
            "Trainable params: 554,576\n",
            "Non-trainable params: 0\n",
            "__________________________________________________________________________________________________\n",
            "<text_recognizer.models.line_model_ctc.LineModelCtc object at 0x7f9950e0ab38>\n",
            "Model: \"model_1\"\n",
            "__________________________________________________________________________________________________\n",
            "Layer (type)                    Output Shape         Param #     Connected to                     \n",
            "==================================================================================================\n",
            "image (InputLayer)              [(None, 28, 952)]    0                                            \n",
            "__________________________________________________________________________________________________\n",
            "reshape (Reshape)               (None, 28, 952, 1)   0           image[0][0]                      \n",
            "__________________________________________________________________________________________________\n",
            "lambda (Lambda)                 (None, 189, 28, 12,  0           reshape[0][0]                    \n",
            "__________________________________________________________________________________________________\n",
            "time_distributed (TimeDistribut (None, 189, 128)     412160      lambda[0][0]                     \n",
            "__________________________________________________________________________________________________\n",
            "cu_dnnlstm (CuDNNLSTM)          (None, 189, 128)     132096      time_distributed[0][0]           \n",
            "__________________________________________________________________________________________________\n",
            "input_length (InputLayer)       [(None, 1)]          0                                            \n",
            "__________________________________________________________________________________________________\n",
            "y_true (InputLayer)             [(None, 34)]         0                                            \n",
            "__________________________________________________________________________________________________\n",
            "softmax_output (Dense)          (None, 189, 80)      10320       cu_dnnlstm[0][0]                 \n",
            "__________________________________________________________________________________________________\n",
            "lambda_1 (Lambda)               (None, 1)            0           input_length[0][0]               \n",
            "__________________________________________________________________________________________________\n",
            "label_length (InputLayer)       [(None, 1)]          0                                            \n",
            "__________________________________________________________________________________________________\n",
            "ctc_loss (Lambda)               (None, 1)            0           y_true[0][0]                     \n",
            "                                                                 softmax_output[0][0]             \n",
            "                                                                 lambda_1[0][0]                   \n",
            "                                                                 label_length[0][0]               \n",
            "__________________________________________________________________________________________________\n",
            "ctc_decoded (Lambda)            (None, None)         0           softmax_output[0][0]             \n",
            "                                                                 lambda_1[0][0]                   \n",
            "==================================================================================================\n",
            "Total params: 554,576\n",
            "Trainable params: 554,576\n",
            "Non-trainable params: 0\n",
            "__________________________________________________________________________________________________\n",
            "W0807 05:44:32.085848 140298052859776 training_utils.py:1101] Output ctc_decoded missing from loss dictionary. We assume this was done on purpose. The fit and evaluate APIs will not be expecting any data to be passed to ctc_decoded.\n",
            "2019-08-07 05:44:32.215476: I tensorflow/stream_executor/cuda/cuda_gpu_executor.cc:1005] successful NUMA node read from SysFS had negative value (-1), but there must be at least one NUMA node, so returning NUMA node zero\n",
            "2019-08-07 05:44:32.216130: I tensorflow/core/common_runtime/gpu/gpu_device.cc:1640] Found device 0 with properties: \n",
            "name: Tesla K80 major: 3 minor: 7 memoryClockRate(GHz): 0.8235\n",
            "pciBusID: 0000:00:04.0\n",
            "2019-08-07 05:44:32.216286: I tensorflow/stream_executor/platform/default/dso_loader.cc:42] Successfully opened dynamic library libcudart.so.10.0\n",
            "2019-08-07 05:44:32.218403: I tensorflow/stream_executor/platform/default/dso_loader.cc:42] Successfully opened dynamic library libcublas.so.10.0\n",
            "2019-08-07 05:44:32.218482: I tensorflow/stream_executor/platform/default/dso_loader.cc:42] Successfully opened dynamic library libcufft.so.10.0\n",
            "2019-08-07 05:44:32.218530: I tensorflow/stream_executor/platform/default/dso_loader.cc:42] Successfully opened dynamic library libcurand.so.10.0\n",
            "2019-08-07 05:44:32.218587: I tensorflow/stream_executor/platform/default/dso_loader.cc:42] Successfully opened dynamic library libcusolver.so.10.0\n",
            "2019-08-07 05:44:32.218651: I tensorflow/stream_executor/platform/default/dso_loader.cc:42] Successfully opened dynamic library libcusparse.so.10.0\n",
            "2019-08-07 05:44:32.218716: I tensorflow/stream_executor/platform/default/dso_loader.cc:42] Successfully opened dynamic library libcudnn.so.7\n",
            "2019-08-07 05:44:32.218822: I tensorflow/stream_executor/cuda/cuda_gpu_executor.cc:1005] successful NUMA node read from SysFS had negative value (-1), but there must be at least one NUMA node, so returning NUMA node zero\n",
            "2019-08-07 05:44:32.220846: I tensorflow/stream_executor/cuda/cuda_gpu_executor.cc:1005] successful NUMA node read from SysFS had negative value (-1), but there must be at least one NUMA node, so returning NUMA node zero\n",
            "2019-08-07 05:44:32.221623: I tensorflow/core/common_runtime/gpu/gpu_device.cc:1763] Adding visible gpu devices: 0\n",
            "2019-08-07 05:44:32.221734: I tensorflow/core/common_runtime/gpu/gpu_device.cc:1181] Device interconnect StreamExecutor with strength 1 edge matrix:\n",
            "2019-08-07 05:44:32.221771: I tensorflow/core/common_runtime/gpu/gpu_device.cc:1187]      0 \n",
            "2019-08-07 05:44:32.221796: I tensorflow/core/common_runtime/gpu/gpu_device.cc:1200] 0:   N \n",
            "2019-08-07 05:44:32.222218: I tensorflow/stream_executor/cuda/cuda_gpu_executor.cc:1005] successful NUMA node read from SysFS had negative value (-1), but there must be at least one NUMA node, so returning NUMA node zero\n",
            "2019-08-07 05:44:32.222855: I tensorflow/stream_executor/cuda/cuda_gpu_executor.cc:1005] successful NUMA node read from SysFS had negative value (-1), but there must be at least one NUMA node, so returning NUMA node zero\n",
            "2019-08-07 05:44:32.223449: I tensorflow/core/common_runtime/gpu/gpu_device.cc:1326] Created TensorFlow device (/job:localhost/replica:0/task:0/device:GPU:0 with 10742 MB memory) -> physical GPU (device: 0, name: Tesla K80, pci bus id: 0000:00:04.0, compute capability: 3.7)\n",
            "Epoch 1/16\n",
            "2019-08-07 05:44:34.370044: W tensorflow/compiler/jit/mark_for_compilation_pass.cc:1412] (One-time warning): Not using XLA:CPU for cluster because envvar TF_XLA_FLAGS=--tf_xla_cpu_global_jit was not set.  If you want XLA:CPU, either set that envvar, or use experimental_jit_scope to enable XLA:CPU.  To confirm that XLA is active, pass --vmodule=xla_compilation_cache=1 (as a proper command-line flag, not via TF_XLA_FLAGS) or set the envvar XLA_FLAGS=--xla_hlo_profile.\n",
            "2019-08-07 05:44:34.413934: I tensorflow/stream_executor/platform/default/dso_loader.cc:42] Successfully opened dynamic library libcublas.so.10.0\n",
            "2019-08-07 05:44:34.642740: I tensorflow/stream_executor/platform/default/dso_loader.cc:42] Successfully opened dynamic library libcudnn.so.7\n",
            "157/157 [==============================] - 85s 541ms/step - loss: 64.9643 - ctc_loss_loss: 64.9639 - val_loss: 52.2391 - val_ctc_loss_loss: 52.2391\n",
            "Epoch 2/16\n",
            "157/157 [==============================] - 79s 500ms/step - loss: 39.8194 - ctc_loss_loss: 39.8191 - val_loss: 27.1690 - val_ctc_loss_loss: 27.1690\n",
            "Epoch 3/16\n",
            "157/157 [==============================] - 79s 502ms/step - loss: 21.1069 - ctc_loss_loss: 21.1070 - val_loss: 14.6588 - val_ctc_loss_loss: 14.6588\n",
            "Epoch 4/16\n",
            "157/157 [==============================] - 78s 500ms/step - loss: 12.6374 - ctc_loss_loss: 12.6374 - val_loss: 9.4593 - val_ctc_loss_loss: 9.4593\n",
            "Epoch 5/16\n",
            "157/157 [==============================] - 79s 502ms/step - loss: 8.7523 - ctc_loss_loss: 8.7522 - val_loss: 6.8291 - val_ctc_loss_loss: 6.8291\n",
            "Epoch 6/16\n",
            "157/157 [==============================] - 78s 500ms/step - loss: 6.6597 - ctc_loss_loss: 6.6597 - val_loss: 5.7724 - val_ctc_loss_loss: 5.7724\n",
            "Epoch 7/16\n",
            "157/157 [==============================] - 78s 499ms/step - loss: 5.5116 - ctc_loss_loss: 5.5115 - val_loss: 5.1794 - val_ctc_loss_loss: 5.1794\n",
            "Epoch 8/16\n",
            "157/157 [==============================] - 79s 500ms/step - loss: 4.7331 - ctc_loss_loss: 4.7331 - val_loss: 4.5902 - val_ctc_loss_loss: 4.5902\n",
            "Epoch 9/16\n",
            "157/157 [==============================] - 78s 498ms/step - loss: 4.2587 - ctc_loss_loss: 4.2587 - val_loss: 4.3065 - val_ctc_loss_loss: 4.3065\n",
            "Epoch 10/16\n",
            "157/157 [==============================] - 79s 501ms/step - loss: 3.8908 - ctc_loss_loss: 3.8909 - val_loss: 4.1692 - val_ctc_loss_loss: 4.1692\n",
            "Epoch 11/16\n",
            "157/157 [==============================] - 78s 498ms/step - loss: 3.5726 - ctc_loss_loss: 3.5725 - val_loss: 3.9643 - val_ctc_loss_loss: 3.9643\n",
            "Epoch 12/16\n",
            "157/157 [==============================] - 78s 498ms/step - loss: 3.3513 - ctc_loss_loss: 3.3513 - val_loss: 3.7559 - val_ctc_loss_loss: 3.7559\n",
            "Epoch 13/16\n",
            "157/157 [==============================] - 78s 498ms/step - loss: 3.1720 - ctc_loss_loss: 3.1720 - val_loss: 3.7378 - val_ctc_loss_loss: 3.7378\n",
            "Epoch 14/16\n",
            "157/157 [==============================] - 78s 499ms/step - loss: 2.9711 - ctc_loss_loss: 2.9711 - val_loss: 3.5891 - val_ctc_loss_loss: 3.5891\n",
            "Epoch 15/16\n",
            "157/157 [==============================] - 78s 497ms/step - loss: 2.8565 - ctc_loss_loss: 2.8565 - val_loss: 3.5349 - val_ctc_loss_loss: 3.5349\n",
            "Epoch 16/16\n",
            "157/157 [==============================] - 78s 499ms/step - loss: 2.7210 - ctc_loss_loss: 2.7210 - val_loss: 3.4485 - val_ctc_loss_loss: 3.4485\n",
            "Training took 1262.068470 s\n",
            "GPU utilization: 82.62 +- 19.99\n",
            "\n",
            "Least accurate predictions:\n",
            "True: 104\n",
            "Pred: loy\n",
            "True: I\n",
            "Pred: i\n",
            "True: God\n",
            "Pred: Gpu\n",
            "True: Mr\n",
            "Pred: mr\n",
            "True: Louis 15\n",
            "Pred: Louls if\n",
            "\n",
            "Most accurate predictions:\n",
            "True: just\n",
            "Pred: just\n",
            "True: manner\n",
            "Pred: manner\n",
            "True: elegantly worded\n",
            "Pred: elegantly worded\n",
            "True: appear that we were\n",
            "Pred: appear that we were\n",
            "True: out of a handy tree and first set\n",
            "Pred: out of a handy tree and first set\n",
            "\n",
            "Random predictions:\n",
            "True: If Depew had told\n",
            "Pred: if oepew had told\n",
            "True: business in bigticket\n",
            "Pred: busness n bigticket\n",
            "True: difficult to say what\n",
            "Pred: difficult to say what\n",
            "True: for him saying But Mr\n",
            "Pred: for hin saying But mr\n",
            "True: circle By now\n",
            "Pred: circee By now\n",
            "Test evaluation: 0.9413681958176212\n"
          ],
          "name": "stdout"
        }
      ]
    },
    {
      "cell_type": "code",
      "metadata": {
        "id": "amuxVT4Dwl_i",
        "colab_type": "code",
        "colab": {
          "base_uri": "https://localhost:8080/",
          "height": 34
        },
        "outputId": "a8480b27-bc50-422b-f562-c6fba3159f4b"
      },
      "source": [
        "cd /content/fsdl-text-recognizer-project/data/raw/nltk/corpora/brown\n"
      ],
      "execution_count": 43,
      "outputs": [
        {
          "output_type": "stream",
          "text": [
            "/content/fsdl-text-recognizer-project/data/raw/nltk/corpora/brown\n"
          ],
          "name": "stdout"
        }
      ]
    },
    {
      "cell_type": "code",
      "metadata": {
        "id": "VB8e26SGwpq5",
        "colab_type": "code",
        "colab": {
          "base_uri": "https://localhost:8080/",
          "height": 1000
        },
        "outputId": "6c8a7522-6390-4e70-aca1-fc377b78b1ef"
      },
      "source": [
        "!ls -l"
      ],
      "execution_count": 45,
      "outputs": [
        {
          "output_type": "stream",
          "text": [
            "total 10564\n",
            "-rw-r--r-- 1 root root  20187 Aug  7 05:44 ca01\n",
            "-rw-r--r-- 1 root root  20357 Aug  7 05:44 ca02\n",
            "-rw-r--r-- 1 root root  20214 Aug  7 05:44 ca03\n",
            "-rw-r--r-- 1 root root  20608 Aug  7 05:44 ca04\n",
            "-rw-r--r-- 1 root root  19748 Aug  7 05:44 ca05\n",
            "-rw-r--r-- 1 root root  20137 Aug  7 05:44 ca06\n",
            "-rw-r--r-- 1 root root  20921 Aug  7 05:44 ca07\n",
            "-rw-r--r-- 1 root root  19599 Aug  7 05:44 ca08\n",
            "-rw-r--r-- 1 root root  20331 Aug  7 05:44 ca09\n",
            "-rw-r--r-- 1 root root  20128 Aug  7 05:44 ca10\n",
            "-rw-r--r-- 1 root root  19728 Aug  7 05:44 ca11\n",
            "-rw-r--r-- 1 root root  19633 Aug  7 05:44 ca12\n",
            "-rw-r--r-- 1 root root  19059 Aug  7 05:44 ca13\n",
            "-rw-r--r-- 1 root root  20309 Aug  7 05:44 ca14\n",
            "-rw-r--r-- 1 root root  19629 Aug  7 05:44 ca15\n",
            "-rw-r--r-- 1 root root  20140 Aug  7 05:44 ca16\n",
            "-rw-r--r-- 1 root root  19472 Aug  7 05:44 ca17\n",
            "-rw-r--r-- 1 root root  19701 Aug  7 05:44 ca18\n",
            "-rw-r--r-- 1 root root  20266 Aug  7 05:44 ca19\n",
            "-rw-r--r-- 1 root root  20209 Aug  7 05:44 ca20\n",
            "-rw-r--r-- 1 root root  20348 Aug  7 05:44 ca21\n",
            "-rw-r--r-- 1 root root  20605 Aug  7 05:44 ca22\n",
            "-rw-r--r-- 1 root root  20553 Aug  7 05:44 ca23\n",
            "-rw-r--r-- 1 root root  20057 Aug  7 05:44 ca24\n",
            "-rw-r--r-- 1 root root  20543 Aug  7 05:44 ca25\n",
            "-rw-r--r-- 1 root root  19922 Aug  7 05:44 ca26\n",
            "-rw-r--r-- 1 root root  20538 Aug  7 05:44 ca27\n",
            "-rw-r--r-- 1 root root  19625 Aug  7 05:44 ca28\n",
            "-rw-r--r-- 1 root root  20596 Aug  7 05:44 ca29\n",
            "-rw-r--r-- 1 root root  19360 Aug  7 05:44 ca30\n",
            "-rw-r--r-- 1 root root  20387 Aug  7 05:44 ca31\n",
            "-rw-r--r-- 1 root root  20039 Aug  7 05:44 ca32\n",
            "-rw-r--r-- 1 root root  20361 Aug  7 05:44 ca33\n",
            "-rw-r--r-- 1 root root  19978 Aug  7 05:44 ca34\n",
            "-rw-r--r-- 1 root root  19924 Aug  7 05:44 ca35\n",
            "-rw-r--r-- 1 root root  20129 Aug  7 05:44 ca36\n",
            "-rw-r--r-- 1 root root  20853 Aug  7 05:44 ca37\n",
            "-rw-r--r-- 1 root root  18552 Aug  7 05:44 ca38\n",
            "-rw-r--r-- 1 root root  19998 Aug  7 05:44 ca39\n",
            "-rw-r--r-- 1 root root  20317 Aug  7 05:44 ca40\n",
            "-rw-r--r-- 1 root root  20258 Aug  7 05:44 ca41\n",
            "-rw-r--r-- 1 root root  20071 Aug  7 05:44 ca42\n",
            "-rw-r--r-- 1 root root  20192 Aug  7 05:44 ca43\n",
            "-rw-r--r-- 1 root root  20024 Aug  7 05:44 ca44\n",
            "-rw-r--r-- 1 root root   6998 Aug  7 05:44 cats.txt\n",
            "-rw-r--r-- 1 root root  20173 Aug  7 05:44 cb01\n",
            "-rw-r--r-- 1 root root  20167 Aug  7 05:44 cb02\n",
            "-rw-r--r-- 1 root root  19389 Aug  7 05:44 cb03\n",
            "-rw-r--r-- 1 root root  19808 Aug  7 05:44 cb04\n",
            "-rw-r--r-- 1 root root  20042 Aug  7 05:44 cb05\n",
            "-rw-r--r-- 1 root root  20379 Aug  7 05:44 cb06\n",
            "-rw-r--r-- 1 root root  20181 Aug  7 05:44 cb07\n",
            "-rw-r--r-- 1 root root  19224 Aug  7 05:44 cb08\n",
            "-rw-r--r-- 1 root root  19532 Aug  7 05:44 cb09\n",
            "-rw-r--r-- 1 root root  19232 Aug  7 05:44 cb10\n",
            "-rw-r--r-- 1 root root  20819 Aug  7 05:44 cb11\n",
            "-rw-r--r-- 1 root root  19948 Aug  7 05:44 cb12\n",
            "-rw-r--r-- 1 root root  19613 Aug  7 05:44 cb13\n",
            "-rw-r--r-- 1 root root  19397 Aug  7 05:44 cb14\n",
            "-rw-r--r-- 1 root root  20415 Aug  7 05:44 cb15\n",
            "-rw-r--r-- 1 root root  20135 Aug  7 05:44 cb16\n",
            "-rw-r--r-- 1 root root  19744 Aug  7 05:44 cb17\n",
            "-rw-r--r-- 1 root root  19952 Aug  7 05:44 cb18\n",
            "-rw-r--r-- 1 root root  20062 Aug  7 05:44 cb19\n",
            "-rw-r--r-- 1 root root  19830 Aug  7 05:44 cb20\n",
            "-rw-r--r-- 1 root root  19658 Aug  7 05:44 cb21\n",
            "-rw-r--r-- 1 root root  20633 Aug  7 05:44 cb22\n",
            "-rw-r--r-- 1 root root  19934 Aug  7 05:44 cb23\n",
            "-rw-r--r-- 1 root root  20237 Aug  7 05:44 cb24\n",
            "-rw-r--r-- 1 root root  20333 Aug  7 05:44 cb25\n",
            "-rw-r--r-- 1 root root  20105 Aug  7 05:44 cb26\n",
            "-rw-r--r-- 1 root root  19753 Aug  7 05:44 cb27\n",
            "-rw-r--r-- 1 root root  20860 Aug  7 05:44 cc01\n",
            "-rw-r--r-- 1 root root  20385 Aug  7 05:44 cc02\n",
            "-rw-r--r-- 1 root root  20663 Aug  7 05:44 cc03\n",
            "-rw-r--r-- 1 root root  20039 Aug  7 05:44 cc04\n",
            "-rw-r--r-- 1 root root  20501 Aug  7 05:44 cc05\n",
            "-rw-r--r-- 1 root root  20923 Aug  7 05:44 cc06\n",
            "-rw-r--r-- 1 root root  21284 Aug  7 05:44 cc07\n",
            "-rw-r--r-- 1 root root  20228 Aug  7 05:44 cc08\n",
            "-rw-r--r-- 1 root root  20504 Aug  7 05:44 cc09\n",
            "-rw-r--r-- 1 root root  20932 Aug  7 05:44 cc10\n",
            "-rw-r--r-- 1 root root  21592 Aug  7 05:44 cc11\n",
            "-rw-r--r-- 1 root root  20845 Aug  7 05:44 cc12\n",
            "-rw-r--r-- 1 root root  19968 Aug  7 05:44 cc13\n",
            "-rw-r--r-- 1 root root  22531 Aug  7 05:44 cc14\n",
            "-rw-r--r-- 1 root root  21983 Aug  7 05:44 cc15\n",
            "-rw-r--r-- 1 root root  19890 Aug  7 05:44 cc16\n",
            "-rw-r--r-- 1 root root  20657 Aug  7 05:44 cc17\n",
            "-rw-r--r-- 1 root root  18752 Aug  7 05:44 cd01\n",
            "-rw-r--r-- 1 root root  20014 Aug  7 05:44 cd02\n",
            "-rw-r--r-- 1 root root  20801 Aug  7 05:44 cd03\n",
            "-rw-r--r-- 1 root root  18954 Aug  7 05:44 cd04\n",
            "-rw-r--r-- 1 root root  20920 Aug  7 05:44 cd05\n",
            "-rw-r--r-- 1 root root  19013 Aug  7 05:44 cd06\n",
            "-rw-r--r-- 1 root root  18957 Aug  7 05:44 cd07\n",
            "-rw-r--r-- 1 root root  19966 Aug  7 05:44 cd08\n",
            "-rw-r--r-- 1 root root  20804 Aug  7 05:44 cd09\n",
            "-rw-r--r-- 1 root root  20244 Aug  7 05:44 cd10\n",
            "-rw-r--r-- 1 root root  19407 Aug  7 05:44 cd11\n",
            "-rw-r--r-- 1 root root  20916 Aug  7 05:44 cd12\n",
            "-rw-r--r-- 1 root root  18245 Aug  7 05:44 cd13\n",
            "-rw-r--r-- 1 root root  20533 Aug  7 05:44 cd14\n",
            "-rw-r--r-- 1 root root  20050 Aug  7 05:44 cd15\n",
            "-rw-r--r-- 1 root root  20125 Aug  7 05:44 cd16\n",
            "-rw-r--r-- 1 root root  19683 Aug  7 05:44 cd17\n",
            "-rw-r--r-- 1 root root  19897 Aug  7 05:44 ce01\n",
            "-rw-r--r-- 1 root root  18913 Aug  7 05:44 ce02\n",
            "-rw-r--r-- 1 root root  19827 Aug  7 05:44 ce03\n",
            "-rw-r--r-- 1 root root  20449 Aug  7 05:44 ce04\n",
            "-rw-r--r-- 1 root root  20136 Aug  7 05:44 ce05\n",
            "-rw-r--r-- 1 root root  19431 Aug  7 05:44 ce06\n",
            "-rw-r--r-- 1 root root  19470 Aug  7 05:44 ce07\n",
            "-rw-r--r-- 1 root root  19241 Aug  7 05:44 ce08\n",
            "-rw-r--r-- 1 root root  20185 Aug  7 05:44 ce09\n",
            "-rw-r--r-- 1 root root  20398 Aug  7 05:44 ce10\n",
            "-rw-r--r-- 1 root root  19370 Aug  7 05:44 ce11\n",
            "-rw-r--r-- 1 root root  20638 Aug  7 05:44 ce12\n",
            "-rw-r--r-- 1 root root  19327 Aug  7 05:44 ce13\n",
            "-rw-r--r-- 1 root root  19649 Aug  7 05:44 ce14\n",
            "-rw-r--r-- 1 root root  19223 Aug  7 05:44 ce15\n",
            "-rw-r--r-- 1 root root  18532 Aug  7 05:44 ce16\n",
            "-rw-r--r-- 1 root root  18713 Aug  7 05:44 ce17\n",
            "-rw-r--r-- 1 root root  19827 Aug  7 05:44 ce18\n",
            "-rw-r--r-- 1 root root  18972 Aug  7 05:44 ce19\n",
            "-rw-r--r-- 1 root root  19150 Aug  7 05:44 ce20\n",
            "-rw-r--r-- 1 root root  18953 Aug  7 05:44 ce21\n",
            "-rw-r--r-- 1 root root  21270 Aug  7 05:44 ce22\n",
            "-rw-r--r-- 1 root root  19563 Aug  7 05:44 ce23\n",
            "-rw-r--r-- 1 root root  18993 Aug  7 05:44 ce24\n",
            "-rw-r--r-- 1 root root  20155 Aug  7 05:44 ce25\n",
            "-rw-r--r-- 1 root root  19858 Aug  7 05:44 ce26\n",
            "-rw-r--r-- 1 root root  20585 Aug  7 05:44 ce27\n",
            "-rw-r--r-- 1 root root  21013 Aug  7 05:44 ce28\n",
            "-rw-r--r-- 1 root root  20190 Aug  7 05:44 ce29\n",
            "-rw-r--r-- 1 root root  20723 Aug  7 05:44 ce30\n",
            "-rw-r--r-- 1 root root  20400 Aug  7 05:44 ce31\n",
            "-rw-r--r-- 1 root root  21245 Aug  7 05:44 ce32\n",
            "-rw-r--r-- 1 root root  19217 Aug  7 05:44 ce33\n",
            "-rw-r--r-- 1 root root  20492 Aug  7 05:44 ce34\n",
            "-rw-r--r-- 1 root root  19466 Aug  7 05:44 ce35\n",
            "-rw-r--r-- 1 root root  18972 Aug  7 05:44 ce36\n",
            "-rw-r--r-- 1 root root  20467 Aug  7 05:44 cf01\n",
            "-rw-r--r-- 1 root root  19377 Aug  7 05:44 cf02\n",
            "-rw-r--r-- 1 root root  19837 Aug  7 05:44 cf03\n",
            "-rw-r--r-- 1 root root  19460 Aug  7 05:44 cf04\n",
            "-rw-r--r-- 1 root root  19488 Aug  7 05:44 cf05\n",
            "-rw-r--r-- 1 root root  19471 Aug  7 05:44 cf06\n",
            "-rw-r--r-- 1 root root  19352 Aug  7 05:44 cf07\n",
            "-rw-r--r-- 1 root root  20262 Aug  7 05:44 cf08\n",
            "-rw-r--r-- 1 root root  19473 Aug  7 05:44 cf09\n",
            "-rw-r--r-- 1 root root  19955 Aug  7 05:44 cf10\n",
            "-rw-r--r-- 1 root root  19853 Aug  7 05:44 cf11\n",
            "-rw-r--r-- 1 root root  19727 Aug  7 05:44 cf12\n",
            "-rw-r--r-- 1 root root  19292 Aug  7 05:44 cf13\n",
            "-rw-r--r-- 1 root root  20043 Aug  7 05:44 cf14\n",
            "-rw-r--r-- 1 root root  20264 Aug  7 05:44 cf15\n",
            "-rw-r--r-- 1 root root  19627 Aug  7 05:44 cf16\n",
            "-rw-r--r-- 1 root root  19655 Aug  7 05:44 cf17\n",
            "-rw-r--r-- 1 root root  19355 Aug  7 05:44 cf18\n",
            "-rw-r--r-- 1 root root  20448 Aug  7 05:44 cf19\n",
            "-rw-r--r-- 1 root root  19863 Aug  7 05:44 cf20\n",
            "-rw-r--r-- 1 root root  19133 Aug  7 05:44 cf21\n",
            "-rw-r--r-- 1 root root  20757 Aug  7 05:44 cf22\n",
            "-rw-r--r-- 1 root root  20175 Aug  7 05:44 cf23\n",
            "-rw-r--r-- 1 root root  20045 Aug  7 05:44 cf24\n",
            "-rw-r--r-- 1 root root  20367 Aug  7 05:44 cf25\n",
            "-rw-r--r-- 1 root root  18482 Aug  7 05:44 cf26\n",
            "-rw-r--r-- 1 root root  18884 Aug  7 05:44 cf27\n",
            "-rw-r--r-- 1 root root  19673 Aug  7 05:44 cf28\n",
            "-rw-r--r-- 1 root root  20649 Aug  7 05:44 cf29\n",
            "-rw-r--r-- 1 root root  19752 Aug  7 05:44 cf30\n",
            "-rw-r--r-- 1 root root  18859 Aug  7 05:44 cf31\n",
            "-rw-r--r-- 1 root root  19554 Aug  7 05:44 cf32\n",
            "-rw-r--r-- 1 root root  19205 Aug  7 05:44 cf33\n",
            "-rw-r--r-- 1 root root  19911 Aug  7 05:44 cf34\n",
            "-rw-r--r-- 1 root root  20018 Aug  7 05:44 cf35\n",
            "-rw-r--r-- 1 root root  18980 Aug  7 05:44 cf36\n",
            "-rw-r--r-- 1 root root  19350 Aug  7 05:44 cf37\n",
            "-rw-r--r-- 1 root root  20262 Aug  7 05:44 cf38\n",
            "-rw-r--r-- 1 root root  21598 Aug  7 05:44 cf39\n",
            "-rw-r--r-- 1 root root  20257 Aug  7 05:44 cf40\n",
            "-rw-r--r-- 1 root root  19286 Aug  7 05:44 cf41\n",
            "-rw-r--r-- 1 root root  19738 Aug  7 05:44 cf42\n",
            "-rw-r--r-- 1 root root  19281 Aug  7 05:44 cf43\n",
            "-rw-r--r-- 1 root root  20562 Aug  7 05:44 cf44\n",
            "-rw-r--r-- 1 root root  19683 Aug  7 05:44 cf45\n",
            "-rw-r--r-- 1 root root  20588 Aug  7 05:44 cf46\n",
            "-rw-r--r-- 1 root root  19095 Aug  7 05:44 cf47\n",
            "-rw-r--r-- 1 root root  19445 Aug  7 05:44 cf48\n",
            "-rw-r--r-- 1 root root  20195 Aug  7 05:44 cg01\n",
            "-rw-r--r-- 1 root root  20827 Aug  7 05:44 cg02\n",
            "-rw-r--r-- 1 root root  20711 Aug  7 05:44 cg03\n",
            "-rw-r--r-- 1 root root  19336 Aug  7 05:44 cg04\n",
            "-rw-r--r-- 1 root root  19585 Aug  7 05:44 cg05\n",
            "-rw-r--r-- 1 root root  20940 Aug  7 05:44 cg06\n",
            "-rw-r--r-- 1 root root  20843 Aug  7 05:44 cg07\n",
            "-rw-r--r-- 1 root root  20546 Aug  7 05:44 cg08\n",
            "-rw-r--r-- 1 root root  19623 Aug  7 05:44 cg09\n",
            "-rw-r--r-- 1 root root  20442 Aug  7 05:44 cg10\n",
            "-rw-r--r-- 1 root root  19559 Aug  7 05:44 cg11\n",
            "-rw-r--r-- 1 root root  18974 Aug  7 05:44 cg12\n",
            "-rw-r--r-- 1 root root  19769 Aug  7 05:44 cg13\n",
            "-rw-r--r-- 1 root root  19208 Aug  7 05:44 cg14\n",
            "-rw-r--r-- 1 root root  20883 Aug  7 05:44 cg15\n",
            "-rw-r--r-- 1 root root  19903 Aug  7 05:44 cg16\n",
            "-rw-r--r-- 1 root root  20934 Aug  7 05:44 cg17\n",
            "-rw-r--r-- 1 root root  19342 Aug  7 05:44 cg18\n",
            "-rw-r--r-- 1 root root  19383 Aug  7 05:44 cg19\n",
            "-rw-r--r-- 1 root root  19816 Aug  7 05:44 cg20\n",
            "-rw-r--r-- 1 root root  19711 Aug  7 05:44 cg21\n",
            "-rw-r--r-- 1 root root  20400 Aug  7 05:44 cg22\n",
            "-rw-r--r-- 1 root root  19881 Aug  7 05:44 cg23\n",
            "-rw-r--r-- 1 root root  19533 Aug  7 05:44 cg24\n",
            "-rw-r--r-- 1 root root  19759 Aug  7 05:44 cg25\n",
            "-rw-r--r-- 1 root root  18866 Aug  7 05:44 cg26\n",
            "-rw-r--r-- 1 root root  20013 Aug  7 05:44 cg27\n",
            "-rw-r--r-- 1 root root  19574 Aug  7 05:44 cg28\n",
            "-rw-r--r-- 1 root root  19459 Aug  7 05:44 cg29\n",
            "-rw-r--r-- 1 root root  20867 Aug  7 05:44 cg30\n",
            "-rw-r--r-- 1 root root  19733 Aug  7 05:44 cg31\n",
            "-rw-r--r-- 1 root root  19315 Aug  7 05:44 cg32\n",
            "-rw-r--r-- 1 root root  19199 Aug  7 05:44 cg33\n",
            "-rw-r--r-- 1 root root  20081 Aug  7 05:44 cg34\n",
            "-rw-r--r-- 1 root root  20415 Aug  7 05:44 cg35\n",
            "-rw-r--r-- 1 root root  20273 Aug  7 05:44 cg36\n",
            "-rw-r--r-- 1 root root  19411 Aug  7 05:44 cg37\n",
            "-rw-r--r-- 1 root root  20043 Aug  7 05:44 cg38\n",
            "-rw-r--r-- 1 root root  20617 Aug  7 05:44 cg39\n",
            "-rw-r--r-- 1 root root  19348 Aug  7 05:44 cg40\n",
            "-rw-r--r-- 1 root root  18791 Aug  7 05:44 cg41\n",
            "-rw-r--r-- 1 root root  20272 Aug  7 05:44 cg42\n",
            "-rw-r--r-- 1 root root  19461 Aug  7 05:44 cg43\n",
            "-rw-r--r-- 1 root root  19727 Aug  7 05:44 cg44\n",
            "-rw-r--r-- 1 root root  20094 Aug  7 05:44 cg45\n",
            "-rw-r--r-- 1 root root  20001 Aug  7 05:44 cg46\n",
            "-rw-r--r-- 1 root root  19999 Aug  7 05:44 cg47\n",
            "-rw-r--r-- 1 root root  19410 Aug  7 05:44 cg48\n",
            "-rw-r--r-- 1 root root  20219 Aug  7 05:44 cg49\n",
            "-rw-r--r-- 1 root root  19949 Aug  7 05:44 cg50\n",
            "-rw-r--r-- 1 root root  19236 Aug  7 05:44 cg51\n",
            "-rw-r--r-- 1 root root  19512 Aug  7 05:44 cg52\n",
            "-rw-r--r-- 1 root root  19716 Aug  7 05:44 cg53\n",
            "-rw-r--r-- 1 root root  19308 Aug  7 05:44 cg54\n",
            "-rw-r--r-- 1 root root  19046 Aug  7 05:44 cg55\n",
            "-rw-r--r-- 1 root root  19267 Aug  7 05:44 cg56\n",
            "-rw-r--r-- 1 root root  21135 Aug  7 05:44 cg57\n",
            "-rw-r--r-- 1 root root  19705 Aug  7 05:44 cg58\n",
            "-rw-r--r-- 1 root root  19964 Aug  7 05:44 cg59\n",
            "-rw-r--r-- 1 root root  18344 Aug  7 05:44 cg60\n",
            "-rw-r--r-- 1 root root  20407 Aug  7 05:44 cg61\n",
            "-rw-r--r-- 1 root root  20454 Aug  7 05:44 cg62\n",
            "-rw-r--r-- 1 root root  19311 Aug  7 05:44 cg63\n",
            "-rw-r--r-- 1 root root  19479 Aug  7 05:44 cg64\n",
            "-rw-r--r-- 1 root root  20092 Aug  7 05:44 cg65\n",
            "-rw-r--r-- 1 root root  19256 Aug  7 05:44 cg66\n",
            "-rw-r--r-- 1 root root  19946 Aug  7 05:44 cg67\n",
            "-rw-r--r-- 1 root root  20181 Aug  7 05:44 cg68\n",
            "-rw-r--r-- 1 root root  21479 Aug  7 05:44 cg69\n",
            "-rw-r--r-- 1 root root  18833 Aug  7 05:44 cg70\n",
            "-rw-r--r-- 1 root root  19709 Aug  7 05:44 cg71\n",
            "-rw-r--r-- 1 root root  20022 Aug  7 05:44 cg72\n",
            "-rw-r--r-- 1 root root  20043 Aug  7 05:44 cg73\n",
            "-rw-r--r-- 1 root root  20735 Aug  7 05:44 cg74\n",
            "-rw-r--r-- 1 root root  18714 Aug  7 05:44 cg75\n",
            "-rw-r--r-- 1 root root  22792 Aug  7 05:44 ch01\n",
            "-rw-r--r-- 1 root root  21792 Aug  7 05:44 ch02\n",
            "-rw-r--r-- 1 root root  19191 Aug  7 05:44 ch03\n",
            "-rw-r--r-- 1 root root  21334 Aug  7 05:44 ch04\n",
            "-rw-r--r-- 1 root root  19865 Aug  7 05:44 ch05\n",
            "-rw-r--r-- 1 root root  23097 Aug  7 05:44 ch06\n",
            "-rw-r--r-- 1 root root  21629 Aug  7 05:44 ch07\n",
            "-rw-r--r-- 1 root root  20891 Aug  7 05:44 ch08\n",
            "-rw-r--r-- 1 root root  21968 Aug  7 05:44 ch09\n",
            "-rw-r--r-- 1 root root  22673 Aug  7 05:44 ch10\n",
            "-rw-r--r-- 1 root root  21107 Aug  7 05:44 ch11\n",
            "-rw-r--r-- 1 root root  21177 Aug  7 05:44 ch12\n",
            "-rw-r--r-- 1 root root  21409 Aug  7 05:44 ch13\n",
            "-rw-r--r-- 1 root root  21458 Aug  7 05:44 ch14\n",
            "-rw-r--r-- 1 root root  20188 Aug  7 05:44 ch15\n",
            "-rw-r--r-- 1 root root  21033 Aug  7 05:44 ch16\n",
            "-rw-r--r-- 1 root root  22282 Aug  7 05:44 ch17\n",
            "-rw-r--r-- 1 root root  19695 Aug  7 05:44 ch18\n",
            "-rw-r--r-- 1 root root  20068 Aug  7 05:44 ch19\n",
            "-rw-r--r-- 1 root root  22248 Aug  7 05:44 ch20\n",
            "-rw-r--r-- 1 root root  21213 Aug  7 05:44 ch21\n",
            "-rw-r--r-- 1 root root  23775 Aug  7 05:44 ch22\n",
            "-rw-r--r-- 1 root root  20539 Aug  7 05:44 ch23\n",
            "-rw-r--r-- 1 root root  21316 Aug  7 05:44 ch24\n",
            "-rw-r--r-- 1 root root  20251 Aug  7 05:44 ch25\n",
            "-rw-r--r-- 1 root root  19906 Aug  7 05:44 ch26\n",
            "-rw-r--r-- 1 root root  20926 Aug  7 05:44 ch27\n",
            "-rw-r--r-- 1 root root  21937 Aug  7 05:44 ch28\n",
            "-rw-r--r-- 1 root root  20294 Aug  7 05:44 ch29\n",
            "-rw-r--r-- 1 root root  20323 Aug  7 05:44 ch30\n",
            "-rw-r--r-- 1 root root  19366 Aug  7 05:44 cj01\n",
            "-rw-r--r-- 1 root root  19097 Aug  7 05:44 cj02\n",
            "-rw-r--r-- 1 root root  18846 Aug  7 05:44 cj03\n",
            "-rw-r--r-- 1 root root  20488 Aug  7 05:44 cj04\n",
            "-rw-r--r-- 1 root root  20788 Aug  7 05:44 cj05\n",
            "-rw-r--r-- 1 root root  19690 Aug  7 05:44 cj06\n",
            "-rw-r--r-- 1 root root  20841 Aug  7 05:44 cj07\n",
            "-rw-r--r-- 1 root root  19936 Aug  7 05:44 cj08\n",
            "-rw-r--r-- 1 root root  20466 Aug  7 05:44 cj09\n",
            "-rw-r--r-- 1 root root  18779 Aug  7 05:44 cj10\n",
            "-rw-r--r-- 1 root root  19500 Aug  7 05:44 cj11\n",
            "-rw-r--r-- 1 root root  20002 Aug  7 05:44 cj12\n",
            "-rw-r--r-- 1 root root  19925 Aug  7 05:44 cj13\n",
            "-rw-r--r-- 1 root root  20694 Aug  7 05:44 cj14\n",
            "-rw-r--r-- 1 root root  20942 Aug  7 05:44 cj15\n",
            "-rw-r--r-- 1 root root  20235 Aug  7 05:44 cj16\n",
            "-rw-r--r-- 1 root root  21898 Aug  7 05:44 cj17\n",
            "-rw-r--r-- 1 root root  18227 Aug  7 05:44 cj18\n",
            "-rw-r--r-- 1 root root  19643 Aug  7 05:44 cj19\n",
            "-rw-r--r-- 1 root root  17943 Aug  7 05:44 cj20\n",
            "-rw-r--r-- 1 root root  17926 Aug  7 05:44 cj21\n",
            "-rw-r--r-- 1 root root  20278 Aug  7 05:44 cj22\n",
            "-rw-r--r-- 1 root root  20739 Aug  7 05:44 cj23\n",
            "-rw-r--r-- 1 root root  20336 Aug  7 05:44 cj24\n",
            "-rw-r--r-- 1 root root  20757 Aug  7 05:44 cj25\n",
            "-rw-r--r-- 1 root root  21223 Aug  7 05:44 cj26\n",
            "-rw-r--r-- 1 root root  19543 Aug  7 05:44 cj27\n",
            "-rw-r--r-- 1 root root  20577 Aug  7 05:44 cj28\n",
            "-rw-r--r-- 1 root root  20830 Aug  7 05:44 cj29\n",
            "-rw-r--r-- 1 root root  19795 Aug  7 05:44 cj30\n",
            "-rw-r--r-- 1 root root  19814 Aug  7 05:44 cj31\n",
            "-rw-r--r-- 1 root root  18725 Aug  7 05:44 cj32\n",
            "-rw-r--r-- 1 root root  20467 Aug  7 05:44 cj33\n",
            "-rw-r--r-- 1 root root  19913 Aug  7 05:44 cj34\n",
            "-rw-r--r-- 1 root root  20427 Aug  7 05:44 cj35\n",
            "-rw-r--r-- 1 root root  20029 Aug  7 05:44 cj36\n",
            "-rw-r--r-- 1 root root  20556 Aug  7 05:44 cj37\n",
            "-rw-r--r-- 1 root root  20249 Aug  7 05:44 cj38\n",
            "-rw-r--r-- 1 root root  20129 Aug  7 05:44 cj39\n",
            "-rw-r--r-- 1 root root  19353 Aug  7 05:44 cj40\n",
            "-rw-r--r-- 1 root root  19659 Aug  7 05:44 cj41\n",
            "-rw-r--r-- 1 root root  20605 Aug  7 05:44 cj42\n",
            "-rw-r--r-- 1 root root  20241 Aug  7 05:44 cj43\n",
            "-rw-r--r-- 1 root root  20214 Aug  7 05:44 cj44\n",
            "-rw-r--r-- 1 root root  20218 Aug  7 05:44 cj45\n",
            "-rw-r--r-- 1 root root  20235 Aug  7 05:44 cj46\n",
            "-rw-r--r-- 1 root root  20273 Aug  7 05:44 cj47\n",
            "-rw-r--r-- 1 root root  20693 Aug  7 05:44 cj48\n",
            "-rw-r--r-- 1 root root  20342 Aug  7 05:44 cj49\n",
            "-rw-r--r-- 1 root root  20472 Aug  7 05:44 cj50\n",
            "-rw-r--r-- 1 root root  20292 Aug  7 05:44 cj51\n",
            "-rw-r--r-- 1 root root  18437 Aug  7 05:44 cj52\n",
            "-rw-r--r-- 1 root root  19580 Aug  7 05:44 cj53\n",
            "-rw-r--r-- 1 root root  19753 Aug  7 05:44 cj54\n",
            "-rw-r--r-- 1 root root  18912 Aug  7 05:44 cj55\n",
            "-rw-r--r-- 1 root root  20370 Aug  7 05:44 cj56\n",
            "-rw-r--r-- 1 root root  19378 Aug  7 05:44 cj57\n",
            "-rw-r--r-- 1 root root  20117 Aug  7 05:44 cj58\n",
            "-rw-r--r-- 1 root root  19510 Aug  7 05:44 cj59\n",
            "-rw-r--r-- 1 root root  20110 Aug  7 05:44 cj60\n",
            "-rw-r--r-- 1 root root  19695 Aug  7 05:44 cj61\n",
            "-rw-r--r-- 1 root root  19180 Aug  7 05:44 cj62\n",
            "-rw-r--r-- 1 root root  20029 Aug  7 05:44 cj63\n",
            "-rw-r--r-- 1 root root  19532 Aug  7 05:44 cj64\n",
            "-rw-r--r-- 1 root root  19714 Aug  7 05:44 cj65\n",
            "-rw-r--r-- 1 root root  19767 Aug  7 05:44 cj66\n",
            "-rw-r--r-- 1 root root  19533 Aug  7 05:44 cj67\n",
            "-rw-r--r-- 1 root root  19908 Aug  7 05:44 cj68\n",
            "-rw-r--r-- 1 root root  19990 Aug  7 05:44 cj69\n",
            "-rw-r--r-- 1 root root  19577 Aug  7 05:44 cj70\n",
            "-rw-r--r-- 1 root root  21036 Aug  7 05:44 cj71\n",
            "-rw-r--r-- 1 root root  22043 Aug  7 05:44 cj72\n",
            "-rw-r--r-- 1 root root  23106 Aug  7 05:44 cj73\n",
            "-rw-r--r-- 1 root root  21355 Aug  7 05:44 cj74\n",
            "-rw-r--r-- 1 root root  19391 Aug  7 05:44 cj75\n",
            "-rw-r--r-- 1 root root  20924 Aug  7 05:44 cj76\n",
            "-rw-r--r-- 1 root root  22737 Aug  7 05:44 cj77\n",
            "-rw-r--r-- 1 root root  21236 Aug  7 05:44 cj78\n",
            "-rw-r--r-- 1 root root  18647 Aug  7 05:44 cj79\n",
            "-rw-r--r-- 1 root root  20055 Aug  7 05:44 cj80\n",
            "-rw-r--r-- 1 root root  19851 Aug  7 05:44 ck01\n",
            "-rw-r--r-- 1 root root  19183 Aug  7 05:44 ck02\n",
            "-rw-r--r-- 1 root root  18714 Aug  7 05:44 ck03\n",
            "-rw-r--r-- 1 root root  19292 Aug  7 05:44 ck04\n",
            "-rw-r--r-- 1 root root  18860 Aug  7 05:44 ck05\n",
            "-rw-r--r-- 1 root root  20724 Aug  7 05:44 ck06\n",
            "-rw-r--r-- 1 root root  19143 Aug  7 05:44 ck07\n",
            "-rw-r--r-- 1 root root  19488 Aug  7 05:44 ck08\n",
            "-rw-r--r-- 1 root root  18425 Aug  7 05:44 ck09\n",
            "-rw-r--r-- 1 root root  19691 Aug  7 05:44 ck10\n",
            "-rw-r--r-- 1 root root  18972 Aug  7 05:44 ck11\n",
            "-rw-r--r-- 1 root root  20157 Aug  7 05:44 ck12\n",
            "-rw-r--r-- 1 root root  19290 Aug  7 05:44 ck13\n",
            "-rw-r--r-- 1 root root  19537 Aug  7 05:44 ck14\n",
            "-rw-r--r-- 1 root root  19502 Aug  7 05:44 ck15\n",
            "-rw-r--r-- 1 root root  19328 Aug  7 05:44 ck16\n",
            "-rw-r--r-- 1 root root  19618 Aug  7 05:44 ck17\n",
            "-rw-r--r-- 1 root root  18475 Aug  7 05:44 ck18\n",
            "-rw-r--r-- 1 root root  19229 Aug  7 05:44 ck19\n",
            "-rw-r--r-- 1 root root  19682 Aug  7 05:44 ck20\n",
            "-rw-r--r-- 1 root root  19246 Aug  7 05:44 ck21\n",
            "-rw-r--r-- 1 root root  19478 Aug  7 05:44 ck22\n",
            "-rw-r--r-- 1 root root  19308 Aug  7 05:44 ck23\n",
            "-rw-r--r-- 1 root root  19086 Aug  7 05:44 ck24\n",
            "-rw-r--r-- 1 root root  18547 Aug  7 05:44 ck25\n",
            "-rw-r--r-- 1 root root  19138 Aug  7 05:44 ck26\n",
            "-rw-r--r-- 1 root root  19523 Aug  7 05:44 ck27\n",
            "-rw-r--r-- 1 root root  19652 Aug  7 05:44 ck28\n",
            "-rw-r--r-- 1 root root  19004 Aug  7 05:44 ck29\n",
            "-rw-r--r-- 1 root root  19251 Aug  7 05:44 cl01\n",
            "-rw-r--r-- 1 root root  19233 Aug  7 05:44 cl02\n",
            "-rw-r--r-- 1 root root  19359 Aug  7 05:44 cl03\n",
            "-rw-r--r-- 1 root root  18671 Aug  7 05:44 cl04\n",
            "-rw-r--r-- 1 root root  19402 Aug  7 05:44 cl05\n",
            "-rw-r--r-- 1 root root  18363 Aug  7 05:44 cl06\n",
            "-rw-r--r-- 1 root root  19290 Aug  7 05:44 cl07\n",
            "-rw-r--r-- 1 root root  19584 Aug  7 05:44 cl08\n",
            "-rw-r--r-- 1 root root  19418 Aug  7 05:44 cl09\n",
            "-rw-r--r-- 1 root root  19717 Aug  7 05:44 cl10\n",
            "-rw-r--r-- 1 root root  19307 Aug  7 05:44 cl11\n",
            "-rw-r--r-- 1 root root  20053 Aug  7 05:44 cl12\n",
            "-rw-r--r-- 1 root root  19301 Aug  7 05:44 cl13\n",
            "-rw-r--r-- 1 root root  19768 Aug  7 05:44 cl14\n",
            "-rw-r--r-- 1 root root  19653 Aug  7 05:44 cl15\n",
            "-rw-r--r-- 1 root root  19567 Aug  7 05:44 cl16\n",
            "-rw-r--r-- 1 root root  19675 Aug  7 05:44 cl17\n",
            "-rw-r--r-- 1 root root  18835 Aug  7 05:44 cl18\n",
            "-rw-r--r-- 1 root root  19224 Aug  7 05:44 cl19\n",
            "-rw-r--r-- 1 root root  19315 Aug  7 05:44 cl20\n",
            "-rw-r--r-- 1 root root  19648 Aug  7 05:44 cl21\n",
            "-rw-r--r-- 1 root root  18969 Aug  7 05:44 cl22\n",
            "-rw-r--r-- 1 root root  18948 Aug  7 05:44 cl23\n",
            "-rw-r--r-- 1 root root  19526 Aug  7 05:44 cl24\n",
            "-rw-r--r-- 1 root root  20551 Aug  7 05:44 cm01\n",
            "-rw-r--r-- 1 root root  19982 Aug  7 05:44 cm02\n",
            "-rw-r--r-- 1 root root  19462 Aug  7 05:44 cm03\n",
            "-rw-r--r-- 1 root root  20029 Aug  7 05:44 cm04\n",
            "-rw-r--r-- 1 root root  20665 Aug  7 05:44 cm05\n",
            "-rw-r--r-- 1 root root  19405 Aug  7 05:44 cm06\n",
            "-rw-r--r-- 1 root root  19338 Aug  7 05:44 cn01\n",
            "-rw-r--r-- 1 root root  19050 Aug  7 05:44 cn02\n",
            "-rw-r--r-- 1 root root  19355 Aug  7 05:44 cn03\n",
            "-rw-r--r-- 1 root root  19256 Aug  7 05:44 cn04\n",
            "-rw-r--r-- 1 root root  19352 Aug  7 05:44 cn05\n",
            "-rw-r--r-- 1 root root  18699 Aug  7 05:44 cn06\n",
            "-rw-r--r-- 1 root root  19868 Aug  7 05:44 cn07\n",
            "-rw-r--r-- 1 root root  19261 Aug  7 05:44 cn08\n",
            "-rw-r--r-- 1 root root  19893 Aug  7 05:44 cn09\n",
            "-rw-r--r-- 1 root root  19817 Aug  7 05:44 cn10\n",
            "-rw-r--r-- 1 root root  19401 Aug  7 05:44 cn11\n",
            "-rw-r--r-- 1 root root  19563 Aug  7 05:44 cn12\n",
            "-rw-r--r-- 1 root root  19636 Aug  7 05:44 cn13\n",
            "-rw-r--r-- 1 root root  19570 Aug  7 05:44 cn14\n",
            "-rw-r--r-- 1 root root  19034 Aug  7 05:44 cn15\n",
            "-rw-r--r-- 1 root root  20035 Aug  7 05:44 cn16\n",
            "-rw-r--r-- 1 root root  20079 Aug  7 05:44 cn17\n",
            "-rw-r--r-- 1 root root  18467 Aug  7 05:44 cn18\n",
            "-rw-r--r-- 1 root root  19729 Aug  7 05:44 cn19\n",
            "-rw-r--r-- 1 root root  19212 Aug  7 05:44 cn20\n",
            "-rw-r--r-- 1 root root  19438 Aug  7 05:44 cn21\n",
            "-rw-r--r-- 1 root root  18796 Aug  7 05:44 cn22\n",
            "-rw-r--r-- 1 root root  19099 Aug  7 05:44 cn23\n",
            "-rw-r--r-- 1 root root  19909 Aug  7 05:44 cn24\n",
            "-rw-r--r-- 1 root root  19782 Aug  7 05:44 cn25\n",
            "-rw-r--r-- 1 root root  19712 Aug  7 05:44 cn26\n",
            "-rw-r--r-- 1 root root  19639 Aug  7 05:44 cn27\n",
            "-rw-r--r-- 1 root root  19512 Aug  7 05:44 cn28\n",
            "-rw-r--r-- 1 root root  20278 Aug  7 05:44 cn29\n",
            "-rw-r--r-- 1 root root 145896 Aug  7 05:44 CONTENTS\n",
            "-rw-r--r-- 1 root root  19251 Aug  7 05:44 cp01\n",
            "-rw-r--r-- 1 root root  19243 Aug  7 05:44 cp02\n",
            "-rw-r--r-- 1 root root  19526 Aug  7 05:44 cp03\n",
            "-rw-r--r-- 1 root root  20926 Aug  7 05:44 cp04\n",
            "-rw-r--r-- 1 root root  19440 Aug  7 05:44 cp05\n",
            "-rw-r--r-- 1 root root  20837 Aug  7 05:44 cp06\n",
            "-rw-r--r-- 1 root root  19790 Aug  7 05:44 cp07\n",
            "-rw-r--r-- 1 root root  18646 Aug  7 05:44 cp08\n",
            "-rw-r--r-- 1 root root  17718 Aug  7 05:44 cp09\n",
            "-rw-r--r-- 1 root root  19461 Aug  7 05:44 cp10\n",
            "-rw-r--r-- 1 root root  18932 Aug  7 05:44 cp11\n",
            "-rw-r--r-- 1 root root  19472 Aug  7 05:44 cp12\n",
            "-rw-r--r-- 1 root root  19205 Aug  7 05:44 cp13\n",
            "-rw-r--r-- 1 root root  19881 Aug  7 05:44 cp14\n",
            "-rw-r--r-- 1 root root  20108 Aug  7 05:44 cp15\n",
            "-rw-r--r-- 1 root root  20235 Aug  7 05:44 cp16\n",
            "-rw-r--r-- 1 root root  19052 Aug  7 05:44 cp17\n",
            "-rw-r--r-- 1 root root  19615 Aug  7 05:44 cp18\n",
            "-rw-r--r-- 1 root root  19464 Aug  7 05:44 cp19\n",
            "-rw-r--r-- 1 root root  19198 Aug  7 05:44 cp20\n",
            "-rw-r--r-- 1 root root  20810 Aug  7 05:44 cp21\n",
            "-rw-r--r-- 1 root root  19672 Aug  7 05:44 cp22\n",
            "-rw-r--r-- 1 root root  20454 Aug  7 05:44 cp23\n",
            "-rw-r--r-- 1 root root  20073 Aug  7 05:44 cp24\n",
            "-rw-r--r-- 1 root root  19119 Aug  7 05:44 cp25\n",
            "-rw-r--r-- 1 root root  18684 Aug  7 05:44 cp26\n",
            "-rw-r--r-- 1 root root  19850 Aug  7 05:44 cp27\n",
            "-rw-r--r-- 1 root root  19256 Aug  7 05:44 cp28\n",
            "-rw-r--r-- 1 root root  20610 Aug  7 05:44 cp29\n",
            "-rw-r--r-- 1 root root  19520 Aug  7 05:44 cr01\n",
            "-rw-r--r-- 1 root root  20024 Aug  7 05:44 cr02\n",
            "-rw-r--r-- 1 root root  21655 Aug  7 05:44 cr03\n",
            "-rw-r--r-- 1 root root  18564 Aug  7 05:44 cr04\n",
            "-rw-r--r-- 1 root root  20456 Aug  7 05:44 cr05\n",
            "-rw-r--r-- 1 root root  20097 Aug  7 05:44 cr06\n",
            "-rw-r--r-- 1 root root  19973 Aug  7 05:44 cr07\n",
            "-rw-r--r-- 1 root root  20608 Aug  7 05:44 cr08\n",
            "-rw-r--r-- 1 root root  19645 Aug  7 05:44 cr09\n",
            "-rw-r--r-- 1 root root    387 Aug  7 05:44 README\n"
          ],
          "name": "stdout"
        }
      ]
    },
    {
      "cell_type": "code",
      "metadata": {
        "id": "LqvwRTrBp8xw",
        "colab_type": "code",
        "outputId": "15864cda-fa1a-46fc-aece-76e2c58f714d",
        "colab": {
          "base_uri": "https://localhost:8080/",
          "height": 306
        }
      },
      "source": [
        "!uname -m && cat /etc/*release"
      ],
      "execution_count": 33,
      "outputs": [
        {
          "output_type": "stream",
          "text": [
            "x86_64\n",
            "DISTRIB_ID=Ubuntu\n",
            "DISTRIB_RELEASE=18.04\n",
            "DISTRIB_CODENAME=bionic\n",
            "DISTRIB_DESCRIPTION=\"Ubuntu 18.04.2 LTS\"\n",
            "NAME=\"Ubuntu\"\n",
            "VERSION=\"18.04.2 LTS (Bionic Beaver)\"\n",
            "ID=ubuntu\n",
            "ID_LIKE=debian\n",
            "PRETTY_NAME=\"Ubuntu 18.04.2 LTS\"\n",
            "VERSION_ID=\"18.04\"\n",
            "HOME_URL=\"https://www.ubuntu.com/\"\n",
            "SUPPORT_URL=\"https://help.ubuntu.com/\"\n",
            "BUG_REPORT_URL=\"https://bugs.launchpad.net/ubuntu/\"\n",
            "PRIVACY_POLICY_URL=\"https://www.ubuntu.com/legal/terms-and-policies/privacy-policy\"\n",
            "VERSION_CODENAME=bionic\n",
            "UBUNTU_CODENAME=bionic\n"
          ],
          "name": "stdout"
        }
      ]
    },
    {
      "cell_type": "code",
      "metadata": {
        "id": "GbQPYdqjrRSj",
        "colab_type": "code",
        "outputId": "1aacff6b-4173-4244-d248-5065ddef05cd",
        "colab": {
          "base_uri": "https://localhost:8080/",
          "height": 1000
        }
      },
      "source": [
        "#!sudo apt-key adv --fetch-keys http://developer.download.nvidia.com/compute/cuda/repos/ubuntu1804/x86_64/7fa2af80.pub\n",
        "#!wget http://developer.download.nvidia.com/compute/cuda/repos/ubuntu1804/x86_64/cuda-repo-ubuntu1804_9.1.85-1_amd64.deb\n",
        "#!sudo apt install ./cuda-repo-ubuntu1804_9.1.85-1_amd64.deb\n",
        "#!wget http://developer.download.nvidia.com/compute/machine-learning/repos/ubuntu1804/x86_64/nvidia-machine-learning-repo-ubuntu1804_1.0.0-1_amd64.deb\n",
        "#!sudo apt install ./nvidia-machine-learning-repo-ubuntu1804_1.0.0-1_amd64.deb\n",
        "#!sudo apt update"
      ],
      "execution_count": 0,
      "outputs": [
        {
          "output_type": "stream",
          "text": [
            "Executing: /tmp/apt-key-gpghome.zyMHPOtisK/gpg.1.sh --fetch-keys http://developer.download.nvidia.com/compute/cuda/repos/ubuntu1804/x86_64/7fa2af80.pub\n",
            "gpg: requesting key from 'http://developer.download.nvidia.com/compute/cuda/repos/ubuntu1804/x86_64/7fa2af80.pub'\n",
            "gpg: key F60F4B3D7FA2AF80: \"cudatools <cudatools@nvidia.com>\" not changed\n",
            "gpg: Total number processed: 1\n",
            "gpg:              unchanged: 1\n",
            "--2019-08-05 14:23:54--  http://developer.download.nvidia.com/compute/cuda/repos/ubuntu1804/x86_64/cuda-repo-ubuntu1804_9.1.85-1_amd64.deb\n",
            "Resolving developer.download.nvidia.com (developer.download.nvidia.com)... 192.229.211.70, 2606:2800:21f:3aa:dcf:37b:1ed6:1fb\n",
            "Connecting to developer.download.nvidia.com (developer.download.nvidia.com)|192.229.211.70|:80... connected.\n",
            "HTTP request sent, awaiting response... 404 Not Found\n",
            "2019-08-05 14:23:54 ERROR 404: Not Found.\n",
            "\n",
            "Reading package lists... Done\n",
            "E: Unsupported file ./cuda-repo-ubuntu1804_9.1.85-1_amd64.deb given on commandline\n",
            "W: Target Packages (Packages) is configured multiple times in /etc/apt/sources.list.d/nvidia-machine-learning.list:1 and /etc/apt/sources.list.d/nvidia-ml.list:1\n",
            "--2019-08-05 14:23:59--  http://developer.download.nvidia.com/compute/machine-learning/repos/ubuntu1804/x86_64/nvidia-machine-learning-repo-ubuntu1804_1.0.0-1_amd64.deb\n",
            "Resolving developer.download.nvidia.com (developer.download.nvidia.com)... 192.229.211.70, 2606:2800:21f:3aa:dcf:37b:1ed6:1fb\n",
            "Connecting to developer.download.nvidia.com (developer.download.nvidia.com)|192.229.211.70|:80... connected.\n",
            "HTTP request sent, awaiting response... 200 OK\n",
            "Length: 2926 (2.9K) [application/x-deb]\n",
            "Saving to: ‘nvidia-machine-learning-repo-ubuntu1804_1.0.0-1_amd64.deb.1’\n",
            "\n",
            "nvidia-machine-lear 100%[===================>]   2.86K  --.-KB/s    in 0s      \n",
            "\n",
            "2019-08-05 14:23:59 (442 MB/s) - ‘nvidia-machine-learning-repo-ubuntu1804_1.0.0-1_amd64.deb.1’ saved [2926/2926]\n",
            "\n",
            "Reading package lists... Done\n",
            "Building dependency tree       \n",
            "Reading state information... Done\n",
            "Note, selecting 'nvidia-machine-learning-repo-ubuntu1804' instead of './nvidia-machine-learning-repo-ubuntu1804_1.0.0-1_amd64.deb'\n",
            "nvidia-machine-learning-repo-ubuntu1804 is already the newest version (1.0.0-1).\n",
            "The following packages were automatically installed and are no longer required:\n",
            "  libnvidia-cfg1-418 libnvidia-common-410\n",
            "Use 'sudo apt autoremove' to remove them.\n",
            "0 upgraded, 0 newly installed, 0 to remove and 13 not upgraded.\n",
            "W: Target Packages (Packages) is configured multiple times in /etc/apt/sources.list.d/nvidia-machine-learning.list:1 and /etc/apt/sources.list.d/nvidia-ml.list:1\n",
            "Get:1 http://security.ubuntu.com/ubuntu bionic-security InRelease [88.7 kB]\n",
            "Ign:2 http://developer.download.nvidia.com/compute/cuda/repos/ubuntu1804/x86_64  InRelease\n",
            "Hit:3 https://cloud.r-project.org/bin/linux/ubuntu bionic-cran35/ InRelease\n",
            "Ign:4 http://developer.download.nvidia.com/compute/machine-learning/repos/ubuntu1804/x86_64  InRelease\n",
            "Hit:5 http://developer.download.nvidia.com/compute/cuda/repos/ubuntu1804/x86_64  Release\n",
            "Hit:6 http://developer.download.nvidia.com/compute/machine-learning/repos/ubuntu1804/x86_64  Release\n",
            "Hit:7 http://ppa.launchpad.net/graphics-drivers/ppa/ubuntu bionic InRelease\n",
            "Hit:8 http://archive.ubuntu.com/ubuntu bionic InRelease\n",
            "Get:10 http://archive.ubuntu.com/ubuntu bionic-updates InRelease [88.7 kB]\n",
            "Hit:11 http://ppa.launchpad.net/marutter/c2d4u3.5/ubuntu bionic InRelease\n",
            "Get:13 http://archive.ubuntu.com/ubuntu bionic-backports InRelease [74.6 kB]\n",
            "Get:14 http://archive.ubuntu.com/ubuntu bionic-updates/universe amd64 Packages [1,255 kB]\n",
            "Get:15 http://archive.ubuntu.com/ubuntu bionic-updates/multiverse amd64 Packages [14.2 kB]\n",
            "Get:16 http://archive.ubuntu.com/ubuntu bionic-updates/restricted amd64 Packages [10.8 kB]\n",
            "Get:17 http://archive.ubuntu.com/ubuntu bionic-updates/main amd64 Packages [905 kB]\n",
            "Fetched 2,437 kB in 2s (1,590 kB/s)\n",
            "Reading package lists... Done\n",
            "Building dependency tree       \n",
            "Reading state information... Done\n",
            "13 packages can be upgraded. Run 'apt list --upgradable' to see them.\n",
            "W: Target Packages (Packages) is configured multiple times in /etc/apt/sources.list.d/nvidia-machine-learning.list:1 and /etc/apt/sources.list.d/nvidia-ml.list:1\n",
            "W: Target Packages (Packages) is configured multiple times in /etc/apt/sources.list.d/nvidia-machine-learning.list:1 and /etc/apt/sources.list.d/nvidia-ml.list:1\n"
          ],
          "name": "stdout"
        }
      ]
    },
    {
      "cell_type": "code",
      "metadata": {
        "id": "refEUaensRE7",
        "colab_type": "code",
        "outputId": "3b018b74-5a88-4b4e-93dc-fc066fb2e3ff",
        "colab": {
          "base_uri": "https://localhost:8080/",
          "height": 139
        }
      },
      "source": [
        "#!sudo mkdir /usr/lib/nvidia\n",
        "#!sudo apt-get install --no-install-recommends nvidia-410"
      ],
      "execution_count": 0,
      "outputs": [
        {
          "output_type": "stream",
          "text": [
            "mkdir: cannot create directory ‘/usr/lib/nvidia’: File exists\n",
            "Reading package lists... Done\n",
            "Building dependency tree       \n",
            "Reading state information... Done\n",
            "W: Target Packages (Packages) is configured multiple times in /etc/apt/sources.list.d/nvidia-machine-learning.list:1 and /etc/apt/sources.list.d/nvidia-ml.list:1\n",
            "E: Unable to locate package nvidia-410\n"
          ],
          "name": "stdout"
        }
      ]
    },
    {
      "cell_type": "code",
      "metadata": {
        "id": "WaeijADkCs0s",
        "colab_type": "code",
        "outputId": "e96c74ed-4296-400c-d75c-3b77aebf8970",
        "colab": {
          "base_uri": "https://localhost:8080/",
          "height": 292
        }
      },
      "source": [
        "!sudo apt install cuda9.0 cuda-cublas-9-0 cuda-cufft-9-0 cuda-curand-9-0 \\\n",
        "    cuda-cusolver-9-0 cuda-cusparse-9-0 libcudnn7=7.2.1.38-1+cuda9.0 \\\n",
        "    libnccl2=2.2.13-1+cuda9.0 cuda-command-line-tools-9-0"
      ],
      "execution_count": 0,
      "outputs": [
        {
          "output_type": "stream",
          "text": [
            "Reading package lists... Done\n",
            "Building dependency tree       \n",
            "Reading state information... Done\n",
            "W: Target Packages (Packages) is configured multiple times in /etc/apt/sources.list.d/nvidia-machine-learning.list:1 and /etc/apt/sources.list.d/nvidia-ml.list:1\n",
            "E: Unable to locate package cuda9.0\n",
            "E: Couldn't find any package by glob 'cuda9.0'\n",
            "E: Couldn't find any package by regex 'cuda9.0'\n",
            "E: Unable to locate package cuda-cublas-9-0\n",
            "E: Unable to locate package cuda-cufft-9-0\n",
            "E: Unable to locate package cuda-curand-9-0\n",
            "E: Unable to locate package cuda-cusolver-9-0\n",
            "E: Unable to locate package cuda-cusparse-9-0\n",
            "E: Version '7.2.1.38-1+cuda9.0' for 'libcudnn7' was not found\n",
            "E: Version '2.2.13-1+cuda9.0' for 'libnccl2' was not found\n",
            "E: Unable to locate package cuda-command-line-tools-9-0\n"
          ],
          "name": "stdout"
        }
      ]
    },
    {
      "cell_type": "code",
      "metadata": {
        "id": "XJ6oC5FqCz20",
        "colab_type": "code",
        "outputId": "348e5826-3f8d-4b53-f0e0-18411405043d",
        "colab": {
          "base_uri": "https://localhost:8080/",
          "height": 428
        }
      },
      "source": [
        "!sudo apt update\n",
        "!sudo apt install libnvinfer4=4.1.2-1+cuda9.0"
      ],
      "execution_count": 0,
      "outputs": [
        {
          "output_type": "stream",
          "text": [
            "\u001b[33m\r0% [Working]\u001b[0m\r            \rHit:1 https://cloud.r-project.org/bin/linux/ubuntu bionic-cran35/ InRelease\n",
            "\u001b[33m\r0% [Connecting to archive.ubuntu.com (91.189.88.24)] [Connecting to security.ub\u001b[0m\u001b[33m\r0% [1 InRelease gpgv 3,626 B] [Connecting to archive.ubuntu.com (91.189.88.24)]\u001b[0m\r                                                                               \rIgn:2 http://developer.download.nvidia.com/compute/cuda/repos/ubuntu1804/x86_64  InRelease\n",
            "\u001b[33m\r0% [1 InRelease gpgv 3,626 B] [Connecting to archive.ubuntu.com (91.189.88.24)]\u001b[0m\r                                                                               \rIgn:3 http://developer.download.nvidia.com/compute/machine-learning/repos/ubuntu1804/x86_64  InRelease\n",
            "\u001b[33m\r0% [1 InRelease gpgv 3,626 B] [Waiting for headers] [Waiting for headers] [Wait\u001b[0m\u001b[33m\r0% [Waiting for headers] [Waiting for headers] [Waiting for headers] [Waiting f\u001b[0m\r                                                                               \rHit:4 http://developer.download.nvidia.com/compute/cuda/repos/ubuntu1804/x86_64  Release\n",
            "\u001b[33m\r                                                                               \r0% [Waiting for headers] [Waiting for headers] [Waiting for headers]\u001b[0m\u001b[33m\r0% [Release.gpg gpgv 564 B] [Waiting for headers] [Waiting for headers] [Waitin\u001b[0m\r                                                                               \rHit:5 http://developer.download.nvidia.com/compute/machine-learning/repos/ubuntu1804/x86_64  Release\n",
            "\u001b[33m\r0% [Release.gpg gpgv 564 B] [Waiting for headers] [Waiting for headers] [Waitin\u001b[0m\r                                                                               \rHit:6 http://ppa.launchpad.net/graphics-drivers/ppa/ubuntu bionic InRelease\n",
            "\u001b[33m\r0% [Release.gpg gpgv 564 B] [Waiting for headers] [Waiting for headers] [Connec\u001b[0m\r                                                                               \rHit:7 http://archive.ubuntu.com/ubuntu bionic InRelease\n",
            "\u001b[33m\r0% [Release.gpg gpgv 564 B] [Waiting for headers] [Waiting for headers] [Connec\u001b[0m\r                                                                               \rGet:8 http://security.ubuntu.com/ubuntu bionic-security InRelease [88.7 kB]\n",
            "\u001b[33m\r0% [Release.gpg gpgv 564 B] [Waiting for headers] [8 InRelease 2,589 B/88.7 kB \u001b[0m\u001b[33m\r0% [Waiting for headers] [8 InRelease 14.2 kB/88.7 kB 16%] [Connecting to ppa.l\u001b[0m\u001b[33m\r0% [Release.gpg gpgv 564 B] [Waiting for headers] [8 InRelease 14.2 kB/88.7 kB \u001b[0m\r                                                                               \rGet:10 http://archive.ubuntu.com/ubuntu bionic-updates InRelease [88.7 kB]\n",
            "\u001b[33m\r0% [Release.gpg gpgv 564 B] [10 InRelease 2,604 B/88.7 kB 3%] [8 InRelease 14.2\u001b[0m\u001b[33m\r0% [10 InRelease 11.3 kB/88.7 kB 13%] [8 InRelease 25.8 kB/88.7 kB 29%] [Waitin\u001b[0m\u001b[33m\r0% [6 InRelease gpgv 21.3 kB] [10 InRelease 11.3 kB/88.7 kB 13%] [8 InRelease 2\u001b[0m\r                                                                               \rHit:12 http://ppa.launchpad.net/marutter/c2d4u3.5/ubuntu bionic InRelease\n",
            "\u001b[33m\r0% [6 InRelease gpgv 21.3 kB] [10 InRelease 17.1 kB/88.7 kB 19%] [8 InRelease 4\u001b[0m\u001b[33m\r                                                                               \r0% [10 InRelease 22.9 kB/88.7 kB 26%] [8 InRelease 54.7 kB/88.7 kB 62%]\u001b[0m\u001b[33m\r0% [7 InRelease gpgv 242 kB] [10 InRelease 22.9 kB/88.7 kB 26%] [8 InRelease 54\u001b[0m\u001b[33m\r                                                                               \r0% [7 InRelease gpgv 242 kB] [10 InRelease 46.0 kB/88.7 kB 52%]\u001b[0m\u001b[33m\r                                                               \r0% [10 InRelease 57.6 kB/88.7 kB 65%]\u001b[0m\u001b[33m\r0% [12 InRelease gpgv 15.4 kB] [10 InRelease 57.6 kB/88.7 kB 65%]\u001b[0m\u001b[33m\r                                                                 \r0% [12 InRelease gpgv 15.4 kB] [Waiting for headers]\u001b[0m\u001b[33m\r                                                    \r0% [Waiting for headers]\u001b[0m\u001b[33m\r0% [8 InRelease gpgv 88.7 kB] [Waiting for headers]\u001b[0m\r                                                   \rGet:13 http://archive.ubuntu.com/ubuntu bionic-backports InRelease [74.6 kB]\n",
            "Fetched 252 kB in 1s (287 kB/s)\n",
            "Reading package lists... Done\n",
            "Building dependency tree       \n",
            "Reading state information... Done\n",
            "13 packages can be upgraded. Run 'apt list --upgradable' to see them.\n",
            "W: Target Packages (Packages) is configured multiple times in /etc/apt/sources.list.d/nvidia-machine-learning.list:1 and /etc/apt/sources.list.d/nvidia-ml.list:1\n",
            "W: Target Packages (Packages) is configured multiple times in /etc/apt/sources.list.d/nvidia-machine-learning.list:1 and /etc/apt/sources.list.d/nvidia-ml.list:1\n",
            "Reading package lists... Done\n",
            "Building dependency tree       \n",
            "Reading state information... Done\n",
            "W: Target Packages (Packages) is configured multiple times in /etc/apt/sources.list.d/nvidia-machine-learning.list:1 and /etc/apt/sources.list.d/nvidia-ml.list:1\n",
            "E: Version '4.1.2-1+cuda9.0' for 'libnvinfer4' was not found\n"
          ],
          "name": "stdout"
        }
      ]
    },
    {
      "cell_type": "code",
      "metadata": {
        "id": "fjlwxv2esfxP",
        "colab_type": "code",
        "outputId": "dbe12b8e-642c-4e02-9b91-f86e70bf7a07",
        "colab": {
          "base_uri": "https://localhost:8080/",
          "height": 289
        }
      },
      "source": [
        "!nvidia-smi"
      ],
      "execution_count": 34,
      "outputs": [
        {
          "output_type": "stream",
          "text": [
            "Wed Aug  7 03:55:30 2019       \n",
            "+-----------------------------------------------------------------------------+\n",
            "| NVIDIA-SMI 418.67       Driver Version: 410.79       CUDA Version: 10.0     |\n",
            "|-------------------------------+----------------------+----------------------+\n",
            "| GPU  Name        Persistence-M| Bus-Id        Disp.A | Volatile Uncorr. ECC |\n",
            "| Fan  Temp  Perf  Pwr:Usage/Cap|         Memory-Usage | GPU-Util  Compute M. |\n",
            "|===============================+======================+======================|\n",
            "|   0  Tesla T4            Off  | 00000000:00:04.0 Off |                    0 |\n",
            "| N/A   68C    P0    29W /  70W |    129MiB / 15079MiB |      0%      Default |\n",
            "+-------------------------------+----------------------+----------------------+\n",
            "                                                                               \n",
            "+-----------------------------------------------------------------------------+\n",
            "| Processes:                                                       GPU Memory |\n",
            "|  GPU       PID   Type   Process name                             Usage      |\n",
            "|=============================================================================|\n",
            "+-----------------------------------------------------------------------------+\n"
          ],
          "name": "stdout"
        }
      ]
    },
    {
      "cell_type": "code",
      "metadata": {
        "id": "jvykdgdOBCI4",
        "colab_type": "code",
        "outputId": "9a0422d6-1bff-4d47-dd47-bef7dae62de0",
        "colab": {
          "base_uri": "https://localhost:8080/",
          "height": 476
        }
      },
      "source": [
        "from tensorflow.python.client import device_lib\n",
        "device_lib.list_local_devices()"
      ],
      "execution_count": 0,
      "outputs": [
        {
          "output_type": "execute_result",
          "data": {
            "text/plain": [
              "[name: \"/device:CPU:0\"\n",
              " device_type: \"CPU\"\n",
              " memory_limit: 268435456\n",
              " locality {\n",
              " }\n",
              " incarnation: 1473119513804031158, name: \"/device:XLA_GPU:0\"\n",
              " device_type: \"XLA_GPU\"\n",
              " memory_limit: 17179869184\n",
              " locality {\n",
              " }\n",
              " incarnation: 7133941182447786132\n",
              " physical_device_desc: \"device: XLA_GPU device\", name: \"/device:XLA_CPU:0\"\n",
              " device_type: \"XLA_CPU\"\n",
              " memory_limit: 17179869184\n",
              " locality {\n",
              " }\n",
              " incarnation: 8791468797997689911\n",
              " physical_device_desc: \"device: XLA_CPU device\", name: \"/device:GPU:0\"\n",
              " device_type: \"GPU\"\n",
              " memory_limit: 14892338381\n",
              " locality {\n",
              "   bus_id: 1\n",
              "   links {\n",
              "   }\n",
              " }\n",
              " incarnation: 8088048297209839971\n",
              " physical_device_desc: \"device: 0, name: Tesla T4, pci bus id: 0000:00:04.0, compute capability: 7.5\"]"
            ]
          },
          "metadata": {
            "tags": []
          },
          "execution_count": 32
        }
      ]
    },
    {
      "cell_type": "code",
      "metadata": {
        "id": "S0Sq-QWZBVD1",
        "colab_type": "code",
        "colab": {}
      },
      "source": [
        ""
      ],
      "execution_count": 0,
      "outputs": []
    }
  ]
}